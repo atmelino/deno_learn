{
 "cells": [
  {
   "cell_type": "markdown",
   "metadata": {},
   "source": [
    "###  print out structures"
   ]
  },
  {
   "cell_type": "code",
   "execution_count": 17,
   "metadata": {},
   "outputs": [],
   "source": [
    "import random\n",
    "import numpy as np\n",
    "import pprint\n",
    "from graphviz import Digraph\n",
    "\n",
    "from mycrograd_debug.engine_debug import Value\n",
    "from mycrograd_debug.nn_debug import Neuron, Layer, MLP\n",
    "from mycrograd_debug.drawviz_debug import draw_dot\n",
    "\n",
    "np.random.seed(1337)\n",
    "random.seed(1337)\n",
    "pp = pprint.PrettyPrinter(indent=4)"
   ]
  },
  {
   "cell_type": "code",
   "execution_count": 18,
   "metadata": {},
   "outputs": [],
   "source": [
    "def draw_nn_2(model, debug_print_01=False):\n",
    "    # nn_dot = Digraph(format=\"svg\", graph_attr={\"rankdir\": \"LR\"})  # LR = left to right\n",
    "    nn_dot = Digraph(format=\"svg\")\n",
    "    # print(model.layers)\n",
    "    # for l in model.layers:\n",
    "    #     pp.pprint(l.parameters())\n",
    "\n",
    "        # with nn_dot.subgraph(name=l.layernumber, graph_attr={\"rankdir\": \"TB\"}) as c:\n",
    "        # with nn_dot.subgraph(name=\"L\", graph_attr={\"rankdir\": \"TB\"}) as c:\n",
    "        #     c.attr(color=\"blue\")\n",
    "        #     c.node_attr[\"style\"] = \"filled\"\n",
    "        #     c.edges([(\"b0\", \"b1\"), (\"b1\", \"b2\"), (\"b2\", \"b3\")])\n",
    "        #     c.attr(label=\"layer #2\")\n",
    "\n",
    "    # with nn_dot.subgraph(name=\"L\", graph_attr={\"rankdir\": \"TB\"}) as c:\n",
    "    #     c.attr(color=\"blue\")\n",
    "    #     c.node_attr[\"style\"] = \"filled\"\n",
    "    #     c.edges([(\"b0\", \"b1\"), (\"b1\", \"b2\"), (\"b2\", \"b3\")])\n",
    "    #     c.attr(label=\"layer #2\")\n",
    "\n",
    "    with nn_dot.subgraph(name='cluster_0') as c:\n",
    "        c.attr(style='filled', color='lightgrey')\n",
    "        c.node_attr.update(style='filled', color='white')\n",
    "        c.edges([('a0', 'a1'), ('a1', 'a2'), ('a2', 'a3')])\n",
    "        c.attr(label='process #1')\n",
    "\n",
    "    with nn_dot.subgraph(name='cluster_1') as c:\n",
    "        c.attr(color='blue')\n",
    "        c.node_attr['style'] = 'filled'\n",
    "        c.edges([('b0', 'b1'), ('b1', 'b2'), ('b2', 'b3')])\n",
    "        c.attr(label='process #2')\n",
    "\n",
    "    with nn_dot.subgraph(name='cluster_2') as c:\n",
    "        c.attr(color='blue')\n",
    "        c.node_attr['style'] = 'filled'\n",
    "        c.edges([('c0', 'c1'), ('b1', 'b2'), ('b2', 'b3')])\n",
    "        c.attr(label='layer')\n",
    "\n",
    "    return nn_dot"
   ]
  },
  {
   "cell_type": "markdown",
   "metadata": {},
   "source": [
    "#### Multi Layer Perceptron 1-2-1"
   ]
  },
  {
   "cell_type": "code",
   "execution_count": 19,
   "metadata": {},
   "outputs": [],
   "source": [
    "def draw_nn(model, debug_print_01=False):\n",
    "    # nn_dot = Digraph(format=\"svg\", graph_attr={\"rankdir\": \"LR\"})  # LR = left to right\n",
    "    nn_dot = Digraph(format=\"svg\")\n",
    "    print(model.layers)\n",
    "    for l in model.layers:\n",
    "        pp.pprint(l.parameters())\n",
    "\n",
    "        with nn_dot.subgraph(name=l.layernumber, graph_attr={\"rankdir\": \"TB\"}) as c:\n",
    "        # with nn_dot.subgraph(name=\"L\", graph_attr={\"rankdir\": \"TB\"}) as c:\n",
    "            c.attr(color=\"blue\")\n",
    "            c.node_attr[\"style\"] = \"filled\"\n",
    "            c.edges([(\"b0\", \"b1\")])\n",
    "            c.attr(label=l.layernumber)\n",
    "\n",
    "    return nn_dot"
   ]
  },
  {
   "cell_type": "code",
   "execution_count": 20,
   "metadata": {},
   "outputs": [
    {
     "name": "stdout",
     "output_type": "stream",
     "text": [
      "layernumber == L1\n",
      "nonlin == False\n",
      "weightsinit == 2\n",
      "debug_bw == False\n",
      "layernumber == L2\n",
      "nonlin == False\n",
      "weightsinit == 2\n",
      "debug_bw == False\n",
      "[Layer of [LinearNeuron(1), LinearNeuron(1)], Layer of [LinearNeuron(2)]]\n",
      "L1\n",
      "[Layer of [LinearNeuron(1), LinearNeuron(1)], Layer of [LinearNeuron(2)]]\n",
      "[   Value(name=v001,layernumber=L1,neuronnumber=n1,weightnumber=,type=w1,data=0.5, grad=4.200000000000001),\n",
      "    Value(name=v002,layernumber=L1,neuronnumber=n1,weightnumber=,type=b,data=0, grad=0.6000000000000001),\n",
      "    Value(name=v003,layernumber=L1,neuronnumber=n2,weightnumber=,type=w1,data=0.5, grad=8.400000000000002),\n",
      "    Value(name=v004,layernumber=L1,neuronnumber=n2,weightnumber=,type=b,data=0, grad=1.2000000000000002)]\n",
      "[   Value(name=v005,layernumber=L2,neuronnumber=n1,weightnumber=,type=w1,data=0.6000000000000001, grad=3.5),\n",
      "    Value(name=v006,layernumber=L2,neuronnumber=n1,weightnumber=,type=w2,data=1.2000000000000002, grad=3.5),\n",
      "    Value(name=v007,layernumber=L2,neuronnumber=n1,weightnumber=,type=b,data=0, grad=1)]\n"
     ]
    },
    {
     "data": {
      "image/svg+xml": [
       "<?xml version=\"1.0\" encoding=\"UTF-8\" standalone=\"no\"?>\n",
       "<!DOCTYPE svg PUBLIC \"-//W3C//DTD SVG 1.1//EN\"\n",
       " \"http://www.w3.org/Graphics/SVG/1.1/DTD/svg11.dtd\">\n",
       "<!-- Generated by graphviz version 2.43.0 (0)\n",
       " -->\n",
       "<!-- Title: %3 Pages: 1 -->\n",
       "<svg width=\"62pt\" height=\"116pt\"\n",
       " viewBox=\"0.00 0.00 62.00 116.00\" xmlns=\"http://www.w3.org/2000/svg\" xmlns:xlink=\"http://www.w3.org/1999/xlink\">\n",
       "<g id=\"graph0\" class=\"graph\" transform=\"scale(1 1) rotate(0) translate(4 112)\">\n",
       "<title>%3</title>\n",
       "<polygon fill=\"white\" stroke=\"transparent\" points=\"-4,4 -4,-112 58,-112 58,4 -4,4\"/>\n",
       "<!-- b0 -->\n",
       "<g id=\"node1\" class=\"node\">\n",
       "<title>b0</title>\n",
       "<ellipse fill=\"lightgrey\" stroke=\"black\" cx=\"27\" cy=\"-90\" rx=\"27\" ry=\"18\"/>\n",
       "<text text-anchor=\"middle\" x=\"27\" y=\"-86.3\" font-family=\"Times,serif\" font-size=\"14.00\">b0</text>\n",
       "</g>\n",
       "<!-- b1 -->\n",
       "<g id=\"node2\" class=\"node\">\n",
       "<title>b1</title>\n",
       "<ellipse fill=\"lightgrey\" stroke=\"black\" cx=\"27\" cy=\"-18\" rx=\"27\" ry=\"18\"/>\n",
       "<text text-anchor=\"middle\" x=\"27\" y=\"-14.3\" font-family=\"Times,serif\" font-size=\"14.00\">b1</text>\n",
       "</g>\n",
       "<!-- b0&#45;&gt;b1 -->\n",
       "<g id=\"edge1\" class=\"edge\">\n",
       "<title>b0&#45;&gt;b1</title>\n",
       "<path fill=\"none\" stroke=\"black\" d=\"M21.16,-72.41C20.3,-64.51 20.05,-54.85 20.41,-45.94\"/>\n",
       "<polygon fill=\"black\" stroke=\"black\" points=\"23.9,-46.18 21.12,-35.96 16.92,-45.68 23.9,-46.18\"/>\n",
       "</g>\n",
       "<!-- b0&#45;&gt;b1 -->\n",
       "<g id=\"edge2\" class=\"edge\">\n",
       "<title>b0&#45;&gt;b1</title>\n",
       "<path fill=\"none\" stroke=\"black\" d=\"M32.84,-72.41C33.7,-64.51 33.95,-54.85 33.59,-45.94\"/>\n",
       "<polygon fill=\"black\" stroke=\"black\" points=\"37.08,-45.68 32.88,-35.96 30.1,-46.18 37.08,-45.68\"/>\n",
       "</g>\n",
       "</g>\n",
       "</svg>\n"
      ],
      "text/plain": [
       "<graphviz.graphs.Digraph at 0x7f928818d0f0>"
      ]
     },
     "execution_count": 20,
     "metadata": {},
     "output_type": "execute_result"
    }
   ],
   "source": [
    "# initialize a model\n",
    "nin = 1  # number of inputs\n",
    "nout = 1  # number of outputs\n",
    "Value.value_counter = 0\n",
    "\n",
    "model = MLP(\n",
    "    nin, [2, nout], lastReLU=False, weightsinit=2, debug_bw=False\n",
    ")  # 1-layer neural network\n",
    "# print(\"parameters\")\n",
    "# pp.pprint(model.parameters())\n",
    "\n",
    "pp.pprint(model.layers)\n",
    "print(model.layers[0].layernumber)\n",
    "\n",
    "xinumbers = list(range(7, 7 + nin + 1))\n",
    "xinput = [Value(x, type=\"i\") for x in xinumbers]\n",
    "# print(\"inputs\")\n",
    "# pp.pprint(xinput)\n",
    "\n",
    "activation = model(xinput)\n",
    "activation.backward()\n",
    "\n",
    "# draw_dot(activation, debug_print_01=False)\n",
    "draw_nn(model)"
   ]
  }
 ],
 "metadata": {
  "kernelspec": {
   "display_name": "Python 3",
   "language": "python",
   "name": "python3"
  },
  "language_info": {
   "codemirror_mode": {
    "name": "ipython",
    "version": 3
   },
   "file_extension": ".py",
   "mimetype": "text/x-python",
   "name": "python",
   "nbconvert_exporter": "python",
   "pygments_lexer": "ipython3",
   "version": "3.10.12"
  }
 },
 "nbformat": 4,
 "nbformat_minor": 2
}
