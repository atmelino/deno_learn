{
 "cells": [
  {
   "cell_type": "markdown",
   "metadata": {},
   "source": [
    "##  Optimization manual steps"
   ]
  },
  {
   "cell_type": "code",
   "execution_count": 1,
   "metadata": {},
   "outputs": [],
   "source": [
    "import random\n",
    "import numpy as np\n",
    "import pprint\n",
    "\n",
    "from mycrograd_debug.engine_debug import Value\n",
    "from mycrograd_debug.nn_debug import MLP\n",
    "from mycrograd_debug.drawviz_debug import draw_dot, draw_nn, print_all_values\n",
    "\n",
    "np.random.seed(1337)\n",
    "random.seed(1337)\n",
    "number_of_iterations=2\n",
    "pp = pprint.PrettyPrinter(indent=4)\n",
    "global activation\n",
    "makeimg=True\n"
   ]
  },
  {
   "cell_type": "markdown",
   "metadata": {},
   "source": [
    "#### Multi Layer Perceptron 1-2-1"
   ]
  },
  {
   "cell_type": "code",
   "execution_count": 2,
   "metadata": {},
   "outputs": [],
   "source": [
    "# loss function single MLP\n",
    "def loss_single(target, output):\n",
    "    total_loss = (output - target)*(output - target)\n",
    "    total_loss.type=\"l\"\n",
    "    return total_loss"
   ]
  },
  {
   "cell_type": "code",
   "execution_count": 3,
   "metadata": {},
   "outputs": [
    {
     "name": "stdout",
     "output_type": "stream",
     "text": [
      "Module nn MLP: structure [1, 2, 1]\n",
      "inputs=  4\n",
      "parameters\n",
      "[   Value(name=v001,layernumber=L1,neuronnumber=N1,weightnumber=,type=w1,data=0.5, grad=0),\n",
      "    Value(name=v002,layernumber=L1,neuronnumber=N1,weightnumber=,type=b,data=0, grad=0),\n",
      "    Value(name=v003,layernumber=L1,neuronnumber=N2,weightnumber=,type=w1,data=0.5, grad=0),\n",
      "    Value(name=v004,layernumber=L1,neuronnumber=N2,weightnumber=,type=b,data=0, grad=0),\n",
      "    Value(name=v005,layernumber=L2,neuronnumber=N1,weightnumber=,type=w1,data=0.6000000000000001, grad=0),\n",
      "    Value(name=v006,layernumber=L2,neuronnumber=N1,weightnumber=,type=w2,data=1.2000000000000002, grad=0),\n",
      "    Value(name=v007,layernumber=L2,neuronnumber=N1,weightnumber=,type=b,data=0, grad=0)]\n"
     ]
    }
   ],
   "source": [
    "# initialize a model\n",
    "nin = 1  # number of inputs\n",
    "nout = 1  # number of outputs\n",
    "Value.value_counter = 0\n",
    "\n",
    "model = MLP(nin, [2, nout], weightsinit=2, lastReLU=False, debug_bw=False)\n",
    "xinumbers = list(range(4, 4 + nin))\n",
    "xinput = [Value(x, type=\"i\") for x in xinumbers]\n",
    "print(\"inputs= \", xinput[0].data)\n",
    "print(\"parameters\")\n",
    "pp.pprint(model.parameters())"
   ]
  },
  {
   "cell_type": "code",
   "execution_count": 4,
   "metadata": {},
   "outputs": [],
   "source": [
    "# loss function single MLP\n",
    "def loss_single(target, output):\n",
    "    total_loss = (output - target)*(output - target)\n",
    "    total_loss.type=\"l\"\n",
    "    return total_loss"
   ]
  },
  {
   "cell_type": "code",
   "execution_count": null,
   "metadata": {},
   "outputs": [],
   "source": [
    "def makeImage(filename):\n",
    "    # print(filename)\n",
    "    dot1=draw_dot(activation)\n",
    "    dot1.render(\"images/\"+filename , format=\"svg\", view=True)\n",
    "    dot2=draw_nn(xinput, model)\n",
    "    dot2.render(\"images/nn/\"+filename, format=\"svg\", view=True)"
   ]
  },
  {
   "cell_type": "code",
   "execution_count": 5,
   "metadata": {},
   "outputs": [],
   "source": [
    "def act():\n",
    "    #### forward pass0\n",
    "    global activation\n",
    "    activation = model(xinput)\n",
    "\n",
    "def zeroGrad():\n",
    "    model.zero_grad()\n",
    "    for i in xinput:\n",
    "        i.grad=0\n",
    "    print(\"zero'd gradients\")\n",
    "    pp.pprint(model.parameters())\n",
    "\n",
    "def back():\n",
    "    #### backward pass\n",
    "    global activation\n",
    "    activation.backward()\n",
    "    print(\"parameters after backpass\")\n",
    "    pp.pprint(model.parameters())\n",
    "\n",
    "def upd():\n",
    "    #### update\n",
    "    for p in model.parameters():\n",
    "        p.data += -0.1 * p.grad\n",
    "    print(\"updated parameters\")\n",
    "    pp.pprint(model.parameters())\n",
    "\n",
    "def opt():\n",
    "    for k in range(number_of_iterations):\n",
    "        print(\"start step %d\" %k)\n",
    "\n",
    "        act()\n",
    "        zeroGrad()\n",
    "        back()\n",
    "        upd()"
   ]
  },
  {
   "cell_type": "code",
   "execution_count": 6,
   "metadata": {},
   "outputs": [],
   "source": []
  },
  {
   "cell_type": "code",
   "execution_count": 7,
   "metadata": {},
   "outputs": [
    {
     "name": "stdout",
     "output_type": "stream",
     "text": [
      "start step 0\n",
      "step 0 loss calc\n",
      " name ty   data   grad\n",
      " v001 w1   0.50   0.00\n",
      " v002  b   0.00   0.00\n",
      " v003 w1   0.50   0.00\n",
      " v004  b   0.00   0.00\n",
      " v005 w1   0.60   0.00\n",
      " v006 w2   1.20   0.00\n",
      " v007  b   0.00   0.00\n",
      " v008  i   4.00   0.00\n",
      " v009      2.00   0.00\n",
      " v010  a   2.00   0.00\n",
      " v011      2.00   0.00\n",
      " v012  a   2.00   0.00\n",
      " v013      1.20   0.00\n",
      " v014      1.20   0.00\n",
      " v015      2.40   0.00\n",
      " v016  a   3.60   0.00\n",
      "step 0 zero grad\n",
      " name ty   data   grad\n",
      " v001 w1   0.50   0.00\n",
      " v002  b   0.00   0.00\n",
      " v003 w1   0.50   0.00\n",
      " v004  b   0.00   0.00\n",
      " v005 w1   0.60   0.00\n",
      " v006 w2   1.20   0.00\n",
      " v007  b   0.00   0.00\n",
      " v008  i   4.00   0.00\n",
      " v009      2.00   0.00\n",
      " v010  a   2.00   0.00\n",
      " v011      2.00   0.00\n",
      " v012  a   2.00   0.00\n",
      " v013      1.20   0.00\n",
      " v014      1.20   0.00\n",
      " v015      2.40   0.00\n",
      " v016  a   3.60   0.00\n",
      "step 0 backward\n",
      " name ty   data   grad\n",
      " v001 w1   0.50   2.40\n",
      " v002  b   0.00   0.60\n",
      " v003 w1   0.50   4.80\n",
      " v004  b   0.00   1.20\n",
      " v005 w1   0.60   2.00\n",
      " v006 w2   1.20   2.00\n",
      " v007  b   0.00   1.00\n",
      " v008  i   4.00   0.90\n",
      " v009      2.00   0.60\n",
      " v010  a   2.00   0.60\n",
      " v011      2.00   1.20\n",
      " v012  a   2.00   1.20\n",
      " v013      1.20   1.00\n",
      " v014      1.20   1.00\n",
      " v015      2.40   1.00\n",
      " v016  a   3.60   1.00\n",
      "step 0 loss 3.6000000000000005\n",
      "start step 1\n",
      "step 1 loss calc\n",
      " name ty   data   grad\n",
      " v001 w1   0.50   2.40\n",
      " v002  b   0.00   0.60\n",
      " v003 w1   0.50   4.80\n",
      " v004  b   0.00   1.20\n",
      " v005 w1   0.60   2.00\n",
      " v006 w2   1.20   2.00\n",
      " v007  b   0.00   1.00\n",
      " v008  i   4.00   0.90\n",
      " v017      2.00   0.00\n",
      " v018  a   2.00   0.00\n",
      " v019      2.00   0.00\n",
      " v020  a   2.00   0.00\n",
      " v021      1.20   0.00\n",
      " v022      1.20   0.00\n",
      " v023      2.40   0.00\n",
      " v024  a   3.60   0.00\n"
     ]
    },
    {
     "name": "stderr",
     "output_type": "stream",
     "text": [
      "/snap/core20/current/lib/x86_64-linux-gnu/libstdc++.so.6: version `GLIBCXX_3.4.29' not found (required by /lib/x86_64-linux-gnu/libproxy.so.1)\n",
      "Failed to load module: /home/tmeng12/snap/code/common/.cache/gio-modules/libgiolibproxy.so\n",
      "/snap/core20/current/lib/x86_64-linux-gnu/libstdc++.so.6: version `GLIBCXX_3.4.29' not found (required by /lib/x86_64-linux-gnu/libproxy.so.1)\n",
      "Failed to load module: /home/tmeng12/snap/code/common/.cache/gio-modules/libgiolibproxy.so\n",
      "/snap/core20/current/lib/x86_64-linux-gnu/libstdc++.so.6: version `GLIBCXX_3.4.29' not found (required by /lib/x86_64-linux-gnu/libproxy.so.1)\n",
      "Failed to load module: /home/tmeng12/snap/code/common/.cache/gio-modules/libgiolibproxy.so\n",
      "eog: symbol lookup error: /snap/core20/current/lib/x86_64-linux-gnu/libpthread.so.0: undefined symbol: __libc_pthread_init, version GLIBC_PRIVATE\n",
      "Failed to register: GDBus.Error:org.freedesktop.DBus.Error.NoReply: Message recipient disconnected from message bus without replying\n",
      "/snap/core20/current/lib/x86_64-linux-gnu/libstdc++.so.6: version `GLIBCXX_3.4.29' not found (required by /lib/x86_64-linux-gnu/libproxy.so.1)\n",
      "Failed to load module: /home/tmeng12/snap/code/common/.cache/gio-modules/libgiolibproxy.so\n",
      "/snap/core20/current/lib/x86_64-linux-gnu/libstdc++.so.6: version `GLIBCXX_3.4.29' not found (required by /lib/x86_64-linux-gnu/libproxy.so.1)\n",
      "Failed to load module: /home/tmeng12/snap/code/common/.cache/gio-modules/libgiolibproxy.so\n",
      "eog: symbol lookup error: /snap/core20/current/lib/x86_64-linux-gnu/libpthread.so.0: undefined symbol: __libc_pthread_init, version GLIBC_PRIVATE\n",
      "Failed to register: GDBus.Error:org.freedesktop.DBus.Error.NoReply: Message recipient disconnected from message bus without replying\n",
      "/snap/core20/current/lib/x86_64-linux-gnu/libstdc++.so.6: version `GLIBCXX_3.4.29' not found (required by /lib/x86_64-linux-gnu/libproxy.so.1)\n",
      "Failed to load module: /home/tmeng12/snap/code/common/.cache/gio-modules/libgiolibproxy.so\n",
      "/snap/core20/current/lib/x86_64-linux-gnu/libstdc++.so.6: version `GLIBCXX_3.4.29' not found (required by /lib/x86_64-linux-gnu/libproxy.so.1)\n",
      "Failed to load module: /home/tmeng12/snap/code/common/.cache/gio-modules/libgiolibproxy.so\n"
     ]
    },
    {
     "name": "stdout",
     "output_type": "stream",
     "text": [
      "step 1 zero grad\n",
      " name ty   data   grad\n",
      " v001 w1   0.50   0.00\n",
      " v002  b   0.00   0.00\n",
      " v003 w1   0.50   0.00\n",
      " v004  b   0.00   0.00\n",
      " v005 w1   0.60   0.00\n",
      " v006 w2   1.20   0.00\n",
      " v007  b   0.00   0.00\n",
      " v008  i   4.00   0.00\n",
      " v017      2.00   0.00\n",
      " v018  a   2.00   0.00\n",
      " v019      2.00   0.00\n",
      " v020  a   2.00   0.00\n",
      " v021      1.20   0.00\n",
      " v022      1.20   0.00\n",
      " v023      2.40   0.00\n",
      " v024  a   3.60   0.00\n",
      "step 1 backward\n",
      " name ty   data   grad\n",
      " v001 w1   0.50   2.40\n",
      " v002  b   0.00   0.60\n",
      " v003 w1   0.50   4.80\n",
      " v004  b   0.00   1.20\n",
      " v005 w1   0.60   2.00\n",
      " v006 w2   1.20   2.00\n",
      " v007  b   0.00   1.00\n",
      " v008  i   4.00   0.90\n",
      " v017      2.00   0.60\n",
      " v018  a   2.00   0.60\n",
      " v019      2.00   1.20\n",
      " v020  a   2.00   1.20\n",
      " v021      1.20   1.00\n",
      " v022      1.20   1.00\n",
      " v023      2.40   1.00\n",
      " v024  a   3.60   1.00\n",
      "step 1 loss 3.6000000000000005\n"
     ]
    },
    {
     "name": "stderr",
     "output_type": "stream",
     "text": [
      "/snap/core20/current/lib/x86_64-linux-gnu/libstdc++.so.6: version `GLIBCXX_3.4.29' not found (required by /lib/x86_64-linux-gnu/libproxy.so.1)\n",
      "Failed to load module: /home/tmeng12/snap/code/common/.cache/gio-modules/libgiolibproxy.so\n",
      "eog: symbol lookup error: /snap/core20/current/lib/x86_64-linux-gnu/libpthread.so.0: undefined symbol: __libc_pthread_init, version GLIBC_PRIVATE\n",
      "Failed to register: GDBus.Error:org.freedesktop.DBus.Error.NoReply: Message recipient disconnected from message bus without replying\n",
      "Failed to register: GDBus.Error:org.freedesktop.DBus.Error.NoReply: Message recipient disconnected from message bus without replying\n",
      "/snap/core20/current/lib/x86_64-linux-gnu/libstdc++.so.6: version `GLIBCXX_3.4.29' not found (required by /lib/x86_64-linux-gnu/libproxy.so.1)\n",
      "Failed to load module: /home/tmeng12/snap/code/common/.cache/gio-modules/libgiolibproxy.so\n",
      "/snap/core20/current/lib/x86_64-linux-gnu/libstdc++.so.6: version `GLIBCXX_3.4.29' not found (required by /lib/x86_64-linux-gnu/libproxy.so.1)\n",
      "Failed to load module: /home/tmeng12/snap/code/common/.cache/gio-modules/libgiolibproxy.so\n",
      "eog: symbol lookup error: /snap/core20/current/lib/x86_64-linux-gnu/libpthread.so.0: undefined symbol: __libc_pthread_init, version GLIBC_PRIVATE\n",
      "Failed to register: GDBus.Error:org.freedesktop.DBus.Error.NoReply: Message recipient disconnected from message bus without replying\n",
      "/snap/core20/current/lib/x86_64-linux-gnu/libstdc++.so.6: version `GLIBCXX_3.4.29' not found (required by /lib/x86_64-linux-gnu/libproxy.so.1)\n",
      "Failed to load module: /home/tmeng12/snap/code/common/.cache/gio-modules/libgiolibproxy.so\n"
     ]
    }
   ],
   "source": [
    "# optimization\n",
    "for k in range(number_of_iterations):\n",
    "    print(\"start step %d\" %k)\n",
    "    # pp.pprint(model.parameters())\n",
    "\n",
    "    # forward\n",
    "    total_loss = act()\n",
    "    print(\"step %d loss calc\" %k)\n",
    "    print_all_values(activation)\n",
    "    if makeimg:\n",
    "        makeImage(\"opt_01_step%d_1loss\" % k)\n",
    "\n",
    "    # backward\n",
    "    model.zero_grad()\n",
    "    for i in xinput:\n",
    "        i.grad=0\n",
    "    print(\"step %d zero grad\" %k)\n",
    "    print_all_values(activation)\n",
    "    if makeimg:\n",
    "        makeImage(\"opt_01_step%d_2zero\" % k)\n",
    "    activation.backward()\n",
    "    print(\"step %d backward\" %k)\n",
    "    print_all_values(activation)\n",
    "    if makeimg:\n",
    "        makeImage(\"opt_01_step%d_3back\" % k)\n",
    "    \n",
    "    # update\n",
    "    # for p in model.parameters():\n",
    "    #     p.data += -0.1 * p.grad\n",
    "\n",
    "    print(f\"step {k} loss {activation.data}\")\n"
   ]
  },
  {
   "cell_type": "code",
   "execution_count": 8,
   "metadata": {},
   "outputs": [
    {
     "name": "stderr",
     "output_type": "stream",
     "text": [
      "/snap/core20/current/lib/x86_64-linux-gnu/libstdc++.so.6: version `GLIBCXX_3.4.29' not found (required by /lib/x86_64-linux-gnu/libproxy.so.1)\n",
      "Failed to load module: /home/tmeng12/snap/code/common/.cache/gio-modules/libgiolibproxy.so\n"
     ]
    }
   ],
   "source": [
    "# # Optimization Step\n",
    "# def opt_step():\n",
    "#     loss=act()\n",
    "#     zeroGrad()\n",
    "#     back()\n",
    "#     upd()\n",
    "#     return loss"
   ]
  },
  {
   "cell_type": "code",
   "execution_count": 9,
   "metadata": {},
   "outputs": [
    {
     "name": "stderr",
     "output_type": "stream",
     "text": [
      "eog: symbol lookup error: /snap/core20/current/lib/x86_64-linux-gnu/libpthread.so.0: undefined symbol: __libc_pthread_init, version GLIBC_PRIVATE\n",
      "Failed to register: GDBus.Error:org.freedesktop.DBus.Error.NoReply: Message recipient disconnected from message bus without replying\n",
      "eog: symbol lookup error: /snap/core20/current/lib/x86_64-linux-gnu/libpthread.so.0: undefined symbol: __libc_pthread_init, version GLIBC_PRIVATE\n"
     ]
    }
   ],
   "source": [
    "# pp.pprint(model.parameters())\n",
    "# activation = model(xinput)\n",
    "# loss = loss_single(activation, xtarget)\n",
    "# print(\"loss= \", loss.data)\n",
    "# draw_dot(loss)"
   ]
  }
 ],
 "metadata": {
  "kernelspec": {
   "display_name": "Python 3",
   "language": "python",
   "name": "python3"
  },
  "language_info": {
   "codemirror_mode": {
    "name": "ipython",
    "version": 3
   },
   "file_extension": ".py",
   "mimetype": "text/x-python",
   "name": "python",
   "nbconvert_exporter": "python",
   "pygments_lexer": "ipython3",
   "version": "3.10.12"
  }
 },
 "nbformat": 4,
 "nbformat_minor": 2
}
