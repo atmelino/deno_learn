{
 "cells": [
  {
   "cell_type": "markdown",
   "metadata": {},
   "source": [
    "##  Optimization manual steps"
   ]
  },
  {
   "cell_type": "code",
   "execution_count": 1,
   "metadata": {},
   "outputs": [],
   "source": [
    "import random\n",
    "import numpy as np\n",
    "import pprint\n",
    "from mycrograd_debug.engine_debug import Value\n",
    "from mycrograd_debug.nn_debug import MLP\n",
    "from mycrograd_debug.drawviz_debug import draw_dot, draw_nn\n",
    "from mycrograd_debug.util_debug import (\n",
    "    debugPrint,\n",
    "    print_my_params,\n",
    "    print_all_values,\n",
    "    backupParameters,\n",
    "    restoreParameters,\n",
    ")\n",
    "import os\n",
    "\n",
    "np.random.seed(1337)\n",
    "random.seed(1337)\n",
    "number_of_iterations = 10\n",
    "pp = pprint.PrettyPrinter(indent=4)\n",
    "global activation\n",
    "global loss\n",
    "global step\n",
    "step=0\n",
    "\n",
    "makeimg = False\n",
    "# debugOptions={\"params\"}\n",
    "debugOptions={}"
   ]
  },
  {
   "cell_type": "code",
   "execution_count": 2,
   "metadata": {},
   "outputs": [
    {
     "name": "stdout",
     "output_type": "stream",
     "text": [
      "True\n"
     ]
    }
   ],
   "source": [
    "path = \"images/nn\"\n",
    "isExist = os.path.exists(path)\n",
    "print(isExist)\n",
    "if not isExist:\n",
    "    os.makedirs(path)\n",
    "    print(\"dir created\")\n"
   ]
  },
  {
   "cell_type": "markdown",
   "metadata": {},
   "source": [
    "#### Multi Layer Perceptron 1-2-1"
   ]
  },
  {
   "cell_type": "code",
   "execution_count": 3,
   "metadata": {},
   "outputs": [
    {
     "name": "stdout",
     "output_type": "stream",
     "text": [
      "Module nn MLP: structure [1, 2, 1]\n",
      "start\n",
      "parameters\n",
      " name lay neu ty   data   grad\n",
      " v001  L1  N1 w1   0.50   0.00\n",
      " v002  L1  N1  b   0.00   0.00\n",
      " v003  L1  N2 w1   0.50   0.00\n",
      " v004  L1  N2  b   0.00   0.00\n",
      " v005  L2  N1 w1   0.60   0.00\n",
      " v006  L2  N1 w2   1.20   0.00\n",
      " v007  L2  N1  b   0.00   0.00\n",
      "inputs\n",
      "[Value(name=v008,layernumber=,neuronnumber=,weightnumber=,type=i1,data=4, grad=0)]\n",
      "targets\n",
      "Value(name=v009,layernumber=,neuronnumber=,weightnumber=,type=t,data=1.2, grad=0)\n"
     ]
    }
   ],
   "source": [
    "# initialize a model\n",
    "nin = 1  # number of inputs\n",
    "nout = 1  # number of outputs\n",
    "Value.value_counter = 0\n",
    "model = MLP(nin, [2, nout], weightsinit=2, lastReLU=False, debug_bw=False)\n",
    "# xinumbers = list(range(4, 4 + nin))\n",
    "xinumbers = [4]\n",
    "xinput = [Value(x, type=\"i%s\" % index) for index, x in enumerate(xinumbers, start=1)]\n",
    "xtarget = Value(1.2, type=\"t\")  # desired targets\n",
    "# xtarget = Value(0.0, type=\"t\")  # desired targets\n",
    "debugPrint(model, {\"params\"}, message=\"start\", inputs=xinput, targets=xtarget)"
   ]
  },
  {
   "cell_type": "code",
   "execution_count": 4,
   "metadata": {},
   "outputs": [],
   "source": [
    "# loss function single MLP\n",
    "def loss_single(activation, target):\n",
    "    total_loss = (activation - target) * (activation - target)\n",
    "    # total_loss = activation*activation\n",
    "    total_loss.type = \"l\"\n",
    "    return total_loss\n"
   ]
  },
  {
   "cell_type": "code",
   "execution_count": 5,
   "metadata": {},
   "outputs": [],
   "source": [
    "def imageFunc(filename):\n",
    "    # print(filename)\n",
    "    # print(\"loss\",loss)\n",
    "    if makeimg:\n",
    "        dot1=draw_dot(loss)\n",
    "        dot1.render(\"images/\"+filename , format=\"svg\", view=True)\n",
    "        dot2=draw_nn(xinput, model)\n",
    "        dot2.node(\n",
    "            name=\"loss\", label=\"step %2d loss %6.2f\" % (step, loss.data), shape=\"record\"\n",
    "        )\n",
    "        dot2.render(\"images/nn/\"+filename, format=\"svg\", view=True)"
   ]
  },
  {
   "cell_type": "code",
   "execution_count": 6,
   "metadata": {},
   "outputs": [],
   "source": [
    "def getactivation(filename=\"default\"):\n",
    "    #### forward pass0\n",
    "    global model\n",
    "    global loss\n",
    "    global activation\n",
    "    global step\n",
    "    step = step + 1\n",
    "    activation = model(xinput)\n",
    "    loss = loss_single(activation, xtarget)\n",
    "    # loss = activation*activation\n",
    "    # loss.type=\"l\"\n",
    "    debugPrint(model, debugOptions, message=\"act\")\n",
    "    imageFunc(\"step%d_1loss\" % step)\n",
    "\n",
    "\n",
    "def zeroGradients(filename=\"default\"):\n",
    "    global model\n",
    "    global step\n",
    "    model.zero_grad()\n",
    "    for i in xinput:\n",
    "        i.grad = 0\n",
    "    # print(\"zero'd gradients\")\n",
    "    debugPrint(model, debugOptions, message=\"zer\")\n",
    "    imageFunc(\"step%d_2zero\" % step)\n",
    "\n",
    "\n",
    "def backward(filename=\"default\"):\n",
    "    #### backward pass\n",
    "    global activation\n",
    "    global step\n",
    "    loss.backward()\n",
    "    # print(\"parameters after backpass\")\n",
    "    debugPrint(model, debugOptions, message=\"bwd\")\n",
    "    imageFunc(\"step%d_3back\" % step)\n",
    "\n",
    "\n",
    "def updateParams(filename=\"default\"):\n",
    "    #### update\n",
    "    global model\n",
    "    global step\n",
    "    for p in model.parameters():\n",
    "        p.data += -0.05 * p.grad\n",
    "    # print(\"updated parameters\")\n",
    "    debugPrint(model, debugOptions, message=\"upd\")\n",
    "    imageFunc(\"step%d_3upda\" % step)\n"
   ]
  },
  {
   "cell_type": "code",
   "execution_count": 7,
   "metadata": {},
   "outputs": [],
   "source": [
    "def optStep(filename=\"default\"):\n",
    "    global model\n",
    "    global step\n",
    "    getactivation()\n",
    "    zeroGradients()\n",
    "    backward()\n",
    "    updateParams()\n",
    "    print(f\"step %3d output %6.4f loss %6.8f\" % (step, activation.data, loss.data))\n",
    "    dot = draw_nn(xinput, model)\n",
    "    dot.render(\"static/\" + filename)\n"
   ]
  },
  {
   "cell_type": "code",
   "execution_count": 8,
   "metadata": {},
   "outputs": [
    {
     "name": "stdout",
     "output_type": "stream",
     "text": [
      "step   1 output 3.6000 loss 5.76000000\n",
      "step   2 output -2.3789 loss 12.80838205\n",
      "step   3 output -0.3633 loss 2.44380049\n",
      "step   4 output 0.2206 loss 0.95927443\n",
      "step   5 output 0.3652 loss 0.69687608\n",
      "step   6 output 0.4730 loss 0.52852836\n",
      "step   7 output 0.5689 loss 0.39831707\n",
      "step   8 output 0.6606 loss 0.29094950\n",
      "step   9 output 0.7510 loss 0.20164261\n",
      "step  10 output 0.8397 loss 0.12982311\n"
     ]
    }
   ],
   "source": [
    "def opt():\n",
    "    global loss\n",
    "\n",
    "    for k in range(number_of_iterations):\n",
    "        # print(\"start step %d\" % k)\n",
    "        optStep(filename=\"default\")\n",
    "        # print(f\"step %3d output %6.4f loss %6.4f\" % (k, activation.data, loss.data))\n",
    "\n",
    "opt()"
   ]
  }
 ],
 "metadata": {
  "kernelspec": {
   "display_name": "Python 3",
   "language": "python",
   "name": "python3"
  },
  "language_info": {
   "codemirror_mode": {
    "name": "ipython",
    "version": 3
   },
   "file_extension": ".py",
   "mimetype": "text/x-python",
   "name": "python",
   "nbconvert_exporter": "python",
   "pygments_lexer": "ipython3",
   "version": "3.10.12"
  }
 },
 "nbformat": 4,
 "nbformat_minor": 2
}
