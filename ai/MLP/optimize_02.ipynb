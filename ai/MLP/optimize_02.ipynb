{
 "cells": [
  {
   "cell_type": "markdown",
   "metadata": {},
   "source": [
    "##  Optimization manual steps"
   ]
  },
  {
   "cell_type": "code",
   "execution_count": 45,
   "metadata": {},
   "outputs": [],
   "source": [
    "import random\n",
    "import numpy as np\n",
    "import pprint\n",
    "from mycrograd_debug.engine_debug import Value\n",
    "from mycrograd_debug.nn_debug import MLP\n",
    "from mycrograd_debug.drawviz_debug import (\n",
    "    draw_dot,\n",
    "    draw_nn,\n",
    ")\n",
    "from mycrograd_debug.util_debug import debugFunc\n",
    "import os\n",
    "\n",
    "np.random.seed(1337)\n",
    "random.seed(1337)\n",
    "number_of_iterations = 10\n",
    "pp = pprint.PrettyPrinter(indent=4)\n",
    "global activation\n",
    "global loss\n",
    "global step\n",
    "step=0\n",
    "\n",
    "makeimg = False\n",
    "debug_steps = True"
   ]
  },
  {
   "cell_type": "code",
   "execution_count": 46,
   "metadata": {},
   "outputs": [
    {
     "name": "stdout",
     "output_type": "stream",
     "text": [
      "True\n"
     ]
    }
   ],
   "source": [
    "path = \"images/nn\"\n",
    "isExist = os.path.exists(path)\n",
    "print(isExist)\n",
    "if not isExist:\n",
    "    os.makedirs(path)\n",
    "    print(\"dir created\")\n"
   ]
  },
  {
   "cell_type": "markdown",
   "metadata": {},
   "source": [
    "#### Multi Layer Perceptron 1-2-1"
   ]
  },
  {
   "cell_type": "code",
   "execution_count": 47,
   "metadata": {},
   "outputs": [
    {
     "name": "stdout",
     "output_type": "stream",
     "text": [
      "Module nn MLP: structure [1, 2, 1]\n",
      "start\n",
      "parameters\n",
      " name lay neu ty   data   grad\n",
      " v001  L1  N1 w1   0.50   0.00\n",
      " v002  L1  N1  b   0.00   0.00\n",
      " v003  L1  N2 w1   0.50   0.00\n",
      " v004  L1  N2  b   0.00   0.00\n",
      " v005  L2  N1 w1   0.60   0.00\n",
      " v006  L2  N1 w2   1.20   0.00\n",
      " v007  L2  N1  b   0.00   0.00\n",
      "inputs\n",
      "[Value(name=v008,layernumber=,neuronnumber=,weightnumber=,type=i1,data=4, grad=0)]\n",
      "targets\n",
      "Value(name=v009,layernumber=,neuronnumber=,weightnumber=,type=t,data=0.0, grad=0)\n"
     ]
    }
   ],
   "source": [
    "# initialize a model\n",
    "nin = 1  # number of inputs\n",
    "nout = 1  # number of outputs\n",
    "Value.value_counter = 0\n",
    "model = MLP(nin, [2, nout], weightsinit=2, lastReLU=False, debug_bw=False)\n",
    "# xinumbers = list(range(4, 4 + nin))\n",
    "xinumbers = [4]\n",
    "xinput = [Value(x, type=\"i%s\" % index) for index, x in enumerate(xinumbers, start=1)]\n",
    "# xtarget = Value(1.2, type=\"t\")  # desired targets\n",
    "xtarget = Value(0.0, type=\"t\")  # desired targets\n",
    "debugFunc(model, {\"parameters\"}, message=\"start\", inputs=xinput, targets=xtarget)"
   ]
  },
  {
   "cell_type": "code",
   "execution_count": 48,
   "metadata": {},
   "outputs": [],
   "source": [
    "# loss function single MLP\n",
    "def loss_single(activation, target):\n",
    "    # total_loss = (activation - target) * (activation - target)\n",
    "    total_loss = activation*activation\n",
    "    total_loss.type = \"l\"\n",
    "    return total_loss\n"
   ]
  },
  {
   "cell_type": "code",
   "execution_count": 49,
   "metadata": {},
   "outputs": [],
   "source": [
    "def imageFunc(filename):\n",
    "    # print(filename)\n",
    "    # print(\"loss\",loss)\n",
    "    if makeimg:\n",
    "        dot1=draw_dot(loss)\n",
    "        dot1.render(\"images/\"+filename , format=\"svg\", view=True)\n",
    "        dot2=draw_nn(xinput, model)\n",
    "        dot2.node(\n",
    "            name=\"loss\", label=\"step %2d loss %6.2f\" % (step, loss.data), shape=\"record\"\n",
    "        )\n",
    "        dot2.render(\"images/nn/\"+filename, format=\"svg\", view=True)"
   ]
  },
  {
   "cell_type": "code",
   "execution_count": 50,
   "metadata": {},
   "outputs": [],
   "source": [
    "def getactivation(filename=\"default\"):\n",
    "    #### forward pass0\n",
    "    global model\n",
    "    global loss\n",
    "    global activation\n",
    "    global step\n",
    "    step = step + 1\n",
    "    activation = model(xinput)\n",
    "    loss = loss_single(activation, xtarget)\n",
    "    # loss = activation*activation\n",
    "    # loss.type=\"l\"\n",
    "    # debugFunc(model, {\"parameters\"}, message=\"act\")\n",
    "    debugFunc(model, {}, message=\"act\")\n",
    "    imageFunc(\"step%d_1loss\" % step)\n",
    "\n",
    "\n",
    "def zeroGradients(filename=\"default\"):\n",
    "    global model\n",
    "    global step\n",
    "    model.zero_grad()\n",
    "    for i in xinput:\n",
    "        i.grad = 0\n",
    "    # print(\"zero'd gradients\")\n",
    "    # debugFunc(model, {\"parameters\"}, message=\"zer\")\n",
    "    debugFunc(model, {}, message=\"zer\")\n",
    "    imageFunc(\"step%d_2zero\" % step)\n",
    "\n",
    "\n",
    "def backward(filename=\"default\"):\n",
    "    #### backward pass\n",
    "    global activation\n",
    "    global step\n",
    "    loss.backward()\n",
    "    # print(\"parameters after backpass\")\n",
    "    # debugFunc(model, {\"parameters\"}, message=\"bwd\")\n",
    "    debugFunc(model, {}, message=\"bwd\")\n",
    "    imageFunc(\"step%d_3back\" % step)\n",
    "\n",
    "\n",
    "def updateParams(filename=\"default\"):\n",
    "    #### update\n",
    "    global model\n",
    "    global step\n",
    "    for p in model.parameters():\n",
    "        p.data += -0.05 * p.grad\n",
    "    # print(\"updated parameters\")\n",
    "    # debugFunc(model, {\"parameters\"}, message=\"upd\")\n",
    "    debugFunc(model, {}, message=\"upd\")\n",
    "    imageFunc(\"step%d_3upda\" % step)\n"
   ]
  },
  {
   "cell_type": "code",
   "execution_count": 51,
   "metadata": {},
   "outputs": [],
   "source": [
    "def optStep(filename=\"default\"):\n",
    "    global model\n",
    "    global step\n",
    "    getactivation()\n",
    "    zeroGradients()\n",
    "    backward()\n",
    "    updateParams()\n",
    "    print(f\"step %3d output %6.4f loss %6.8f\" % (step, activation.data, loss.data))\n",
    "    dot = draw_nn(xinput, model)\n",
    "    dot.render(\"static/\" + filename)\n"
   ]
  },
  {
   "cell_type": "code",
   "execution_count": 52,
   "metadata": {},
   "outputs": [
    {
     "name": "stdout",
     "output_type": "stream",
     "text": [
      "start step 0\n",
      "act\n",
      "zer\n",
      "bwd\n",
      "upd\n",
      "step   1 output 3.6000 loss 12.96000000\n",
      "start step 1\n",
      "act\n",
      "zer\n",
      "bwd\n",
      "upd\n",
      "step   2 output -2.7245 loss 7.42279127\n",
      "start step 2\n",
      "act\n",
      "zer\n",
      "bwd\n",
      "upd\n",
      "step   3 output 4.2404 loss 17.98119008\n",
      "start step 3\n",
      "act\n",
      "zer\n",
      "bwd\n",
      "upd\n",
      "step   4 output 1.5575 loss 2.42578329\n",
      "start step 4\n",
      "act\n",
      "zer\n",
      "bwd\n",
      "upd\n",
      "step   5 output -1.3869 loss 1.92341235\n",
      "start step 5\n",
      "act\n",
      "zer\n",
      "bwd\n",
      "upd\n",
      "step   6 output 0.0576 loss 0.00332248\n",
      "start step 6\n",
      "act\n",
      "zer\n",
      "bwd\n",
      "upd\n",
      "step   7 output 0.0063 loss 0.00004003\n"
     ]
    },
    {
     "name": "stdout",
     "output_type": "stream",
     "text": [
      "start step 7\n",
      "act\n",
      "zer\n",
      "bwd\n",
      "upd\n",
      "step   8 output 0.0008 loss 0.00000065\n",
      "start step 8\n",
      "act\n",
      "zer\n",
      "bwd\n",
      "upd\n",
      "step   9 output 0.0001 loss 0.00000001\n",
      "start step 9\n",
      "act\n",
      "zer\n",
      "bwd\n",
      "upd\n",
      "step  10 output 0.0000 loss 0.00000000\n"
     ]
    }
   ],
   "source": [
    "def opt():\n",
    "    global loss\n",
    "\n",
    "    for k in range(number_of_iterations):\n",
    "        print(\"start step %d\" % k)\n",
    "        optStep(filename=\"default\")\n",
    "        # print(f\"step %3d output %6.4f loss %6.4f\" % (k, activation.data, loss.data))\n",
    "\n",
    "opt()"
   ]
  },
  {
   "cell_type": "code",
   "execution_count": 53,
   "metadata": {},
   "outputs": [],
   "source": [
    "# optStep(filename=\"default\")"
   ]
  },
  {
   "cell_type": "code",
   "execution_count": 54,
   "metadata": {},
   "outputs": [],
   "source": [
    "# optStep(filename=\"default\")"
   ]
  },
  {
   "cell_type": "code",
   "execution_count": 55,
   "metadata": {},
   "outputs": [],
   "source": [
    "# optStep(filename=\"default\")\n",
    "# optStep(filename=\"default\")"
   ]
  }
 ],
 "metadata": {
  "kernelspec": {
   "display_name": "Python 3",
   "language": "python",
   "name": "python3"
  },
  "language_info": {
   "codemirror_mode": {
    "name": "ipython",
    "version": 3
   },
   "file_extension": ".py",
   "mimetype": "text/x-python",
   "name": "python",
   "nbconvert_exporter": "python",
   "pygments_lexer": "ipython3",
   "version": "3.10.12"
  }
 },
 "nbformat": 4,
 "nbformat_minor": 2
}
