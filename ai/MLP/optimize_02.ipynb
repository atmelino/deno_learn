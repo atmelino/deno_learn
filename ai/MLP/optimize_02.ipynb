{
 "cells": [
  {
   "cell_type": "markdown",
   "metadata": {},
   "source": [
    "##  Optimization manual steps"
   ]
  },
  {
   "cell_type": "code",
   "execution_count": 61,
   "metadata": {},
   "outputs": [],
   "source": [
    "import random\n",
    "import numpy as np\n",
    "import pprint\n",
    "from mycrograd_debug.engine_debug import Value\n",
    "from mycrograd_debug.nn_debug import MLP\n",
    "from mycrograd_debug.drawviz_debug import (\n",
    "    draw_dot,\n",
    "    draw_nn,\n",
    ")\n",
    "from mycrograd_debug.util_debug import debugFunc\n",
    "import os\n",
    "\n",
    "np.random.seed(1337)\n",
    "random.seed(1337)\n",
    "number_of_iterations = 5\n",
    "pp = pprint.PrettyPrinter(indent=4)\n",
    "global activation\n",
    "global loss\n",
    "global step\n",
    "step=0\n",
    "\n",
    "makeimg = True\n",
    "debug_steps = True"
   ]
  },
  {
   "cell_type": "code",
   "execution_count": 62,
   "metadata": {},
   "outputs": [
    {
     "name": "stdout",
     "output_type": "stream",
     "text": [
      "True\n"
     ]
    }
   ],
   "source": [
    "path = \"images/nn\"\n",
    "isExist = os.path.exists(path)\n",
    "print(isExist)\n",
    "if not isExist:\n",
    "    os.makedirs(path)\n",
    "    print(\"dir created\")\n"
   ]
  },
  {
   "cell_type": "markdown",
   "metadata": {},
   "source": [
    "#### Multi Layer Perceptron 1-2-1"
   ]
  },
  {
   "cell_type": "code",
   "execution_count": 63,
   "metadata": {},
   "outputs": [
    {
     "name": "stdout",
     "output_type": "stream",
     "text": [
      "Module nn MLP: structure [1, 2, 1]\n",
      "start\n",
      "parameters\n",
      " name lay neu ty   data   grad\n",
      " v001  L1  N1 w1   0.50   0.00\n",
      " v002  L1  N1  b   0.00   0.00\n",
      " v003  L1  N2 w1   0.50   0.00\n",
      " v004  L1  N2  b   0.00   0.00\n",
      " v005  L2  N1 w1   0.60   0.00\n",
      " v006  L2  N1 w2   1.20   0.00\n",
      " v007  L2  N1  b   0.00   0.00\n",
      "inputs\n",
      "[Value(name=v008,layernumber=,neuronnumber=,weightnumber=,type=i1,data=4, grad=0)]\n",
      "targets\n",
      "Value(name=v009,layernumber=,neuronnumber=,weightnumber=,type=t,data=0.0, grad=0)\n"
     ]
    }
   ],
   "source": [
    "# initialize a model\n",
    "nin = 1  # number of inputs\n",
    "nout = 1  # number of outputs\n",
    "Value.value_counter = 0\n",
    "model = MLP(nin, [2, nout], weightsinit=2, lastReLU=False, debug_bw=True)\n",
    "# xinumbers = list(range(4, 4 + nin))\n",
    "xinumbers = [4]\n",
    "xinput = [Value(x, type=\"i%s\" % index) for index, x in enumerate(xinumbers, start=1)]\n",
    "# xtarget = Value(1.2, type=\"t\")  # desired targets\n",
    "xtarget = Value(0.0, type=\"t\")  # desired targets\n",
    "debugFunc(model, {\"parameters\"}, message=\"start\", inputs=xinput, targets=xtarget)"
   ]
  },
  {
   "cell_type": "code",
   "execution_count": 64,
   "metadata": {},
   "outputs": [],
   "source": [
    "# loss function single MLP\n",
    "def loss_single(activation, target):\n",
    "    # total_loss = (activation - target) * (activation - target)\n",
    "    total_loss = activation*activation\n",
    "    total_loss.type = \"l\"\n",
    "    return total_loss\n"
   ]
  },
  {
   "cell_type": "code",
   "execution_count": 65,
   "metadata": {},
   "outputs": [],
   "source": [
    "def imageFunc(filename):\n",
    "    # print(filename)\n",
    "    print(\"loss\",loss)\n",
    "    if makeimg:\n",
    "        dot1=draw_dot(loss)\n",
    "        dot1.render(\"images/\"+filename , format=\"svg\", view=True)\n",
    "        dot2=draw_nn(xinput, model)\n",
    "        dot2.node(\n",
    "            name=\"loss\", label=\"step %2d loss %6.2f\" % (step, loss.data), shape=\"record\"\n",
    "        )\n",
    "        dot2.render(\"images/nn/\"+filename, format=\"svg\", view=True)"
   ]
  },
  {
   "cell_type": "code",
   "execution_count": 66,
   "metadata": {},
   "outputs": [],
   "source": [
    "def getactivation(filename=\"default\"):\n",
    "    #### forward pass0\n",
    "    global model\n",
    "    global loss\n",
    "    global activation\n",
    "    global step\n",
    "    step = step + 1\n",
    "    activation = model(xinput)\n",
    "    loss = loss_single(activation, xtarget)\n",
    "    # loss = activation*activation\n",
    "    # loss.type=\"l\"\n",
    "    # debugFunc(model, {\"parameters\"}, message=\"act\")\n",
    "    debugFunc(model, {}, message=\"act\")\n",
    "    imageFunc(\"step%d_1loss\" % step)\n",
    "\n",
    "\n",
    "def zeroGradients(filename=\"default\"):\n",
    "    global model\n",
    "    global step\n",
    "    model.zero_grad()\n",
    "    for i in xinput:\n",
    "        i.grad = 0\n",
    "    # print(\"zero'd gradients\")\n",
    "    # debugFunc(model, {\"parameters\"}, message=\"zer\")\n",
    "    debugFunc(model, {}, message=\"zer\")\n",
    "    imageFunc(\"step%d_2zero\" % step)\n",
    "\n",
    "\n",
    "def backward(filename=\"default\"):\n",
    "    #### backward pass\n",
    "    global activation\n",
    "    global step\n",
    "    loss.backward()\n",
    "    # print(\"parameters after backpass\")\n",
    "    # debugFunc(model, {\"parameters\"}, message=\"bwd\")\n",
    "    debugFunc(model, {}, message=\"bwd\")\n",
    "    imageFunc(\"step%d_3back\" % step)\n",
    "\n",
    "\n",
    "def updateParams(filename=\"default\"):\n",
    "    #### update\n",
    "    global model\n",
    "    global step\n",
    "    for p in model.parameters():\n",
    "        p.data += -0.05 * p.grad\n",
    "    # print(\"updated parameters\")\n",
    "    # debugFunc(model, {\"parameters\"}, message=\"upd\")\n",
    "    debugFunc(model, {}, message=\"upd\")\n",
    "    imageFunc(\"step%d_3upda\" % step)\n"
   ]
  },
  {
   "cell_type": "code",
   "execution_count": 67,
   "metadata": {},
   "outputs": [],
   "source": [
    "def optStep(filename=\"default\"):\n",
    "    global model\n",
    "    global step\n",
    "    getactivation()\n",
    "    zeroGradients()\n",
    "    backward()\n",
    "    updateParams()\n",
    "    print(f\"step %3d output %6.4f loss %6.4f\" % (step, activation.data, loss.data))\n",
    "    dot = draw_nn(xinput, model)\n",
    "    dot.render(\"static/\" + filename)\n"
   ]
  },
  {
   "cell_type": "code",
   "execution_count": 68,
   "metadata": {},
   "outputs": [
    {
     "name": "stdout",
     "output_type": "stream",
     "text": [
      "start step 0\n",
      "act\n",
      "loss Value(name=v018,layernumber=,neuronnumber=,weightnumber=,type=l,data=12.960000000000004, grad=0)\n",
      "zer\n",
      "loss Value(name=v018,layernumber=,neuronnumber=,weightnumber=,type=l,data=12.960000000000004, grad=0)\n",
      "backward add v015            0.00 ->   1.00  v016            0.00 ->   1.00\n",
      "backward mul v006 L2 N1 w2   0.00 ->   2.00  v013 L1 N2  a   0.00 ->   1.20\n",
      "backward add v004 L1 N2  b   0.00 ->   1.20  v012            0.00 ->   1.20\n",
      "backward mul v003 L1 N2 w1   0.00 ->   4.80  v008       i1   0.00 ->   0.60\n",
      "backward add v007 L2 N1  b   0.00 ->   1.00  v014            0.00 ->   1.00\n",
      "backward mul v005 L2 N1 w1   0.00 ->   2.00  v011 L1 N1  a   0.00 ->   0.60\n",
      "backward add v002 L1 N1  b   0.00 ->   0.60  v010            0.00 ->   0.60\n",
      "backward mul v001 L1 N1 w1   0.00 ->   2.40  v008       i1   0.60 ->   0.90\n",
      "bwd\n",
      "loss Value(name=v018,layernumber=,neuronnumber=,weightnumber=,type=l,data=12.960000000000004, grad=0)\n"
     ]
    },
    {
     "name": "stdout",
     "output_type": "stream",
     "text": [
      "upd\n",
      "loss Value(name=v018,layernumber=,neuronnumber=,weightnumber=,type=l,data=12.960000000000004, grad=0)\n"
     ]
    },
    {
     "name": "stderr",
     "output_type": "stream",
     "text": [
      "/snap/core20/current/lib/x86_64-linux-gnu/libstdc++.so.6: version `GLIBCXX_3.4.29' not found (required by /lib/x86_64-linux-gnu/libproxy.so.1)\n",
      "Failed to load module: /home/tmeng12/snap/code/common/.cache/gio-modules/libgiolibproxy.so\n",
      "/snap/core20/current/lib/x86_64-linux-gnu/libstdc++.so.6: version `GLIBCXX_3.4.29' not found (required by /lib/x86_64-linux-gnu/libproxy.so.1)\n",
      "Failed to load module: /home/tmeng12/snap/code/common/.cache/gio-modules/libgiolibproxy.so\n",
      "/snap/core20/current/lib/x86_64-linux-gnu/libstdc++.so.6: version `GLIBCXX_3.4.29' not found (required by /lib/x86_64-linux-gnu/libproxy.so.1)\n",
      "Failed to load module: /home/tmeng12/snap/code/common/.cache/gio-modules/libgiolibproxy.so\n",
      "/snap/core20/current/lib/x86_64-linux-gnu/libstdc++.so.6: version `GLIBCXX_3.4.29' not found (required by /lib/x86_64-linux-gnu/libproxy.so.1)\n",
      "Failed to load module: /home/tmeng12/snap/code/common/.cache/gio-modules/libgiolibproxy.so\n",
      "/snap/core20/current/lib/x86_64-linux-gnu/libstdc++.so.6: version `GLIBCXX_3.4.29' not found (required by /lib/x86_64-linux-gnu/libproxy.so.1)\n",
      "Failed to load module: /home/tmeng12/snap/code/common/.cache/gio-modules/libgiolibproxy.so\n",
      "/snap/core20/current/lib/x86_64-linux-gnu/libstdc++.so.6: version `GLIBCXX_3.4.29' not found (required by /lib/x86_64-linux-gnu/libproxy.so.1)\n",
      "Failed to load module: /home/tmeng12/snap/code/common/.cache/gio-modules/libgiolibproxy.so\n"
     ]
    },
    {
     "name": "stdout",
     "output_type": "stream",
     "text": [
      "step   1 output 3.6000 loss 12.9600\n",
      "start step 1\n",
      "act\n",
      "loss Value(name=v027,layernumber=,neuronnumber=,weightnumber=,type=l,data=3.1435289999999996, grad=0)\n",
      "zer\n",
      "loss Value(name=v027,layernumber=,neuronnumber=,weightnumber=,type=l,data=3.1435289999999996, grad=0)\n"
     ]
    },
    {
     "name": "stderr",
     "output_type": "stream",
     "text": [
      "/snap/core20/current/lib/x86_64-linux-gnu/libstdc++.so.6: version `GLIBCXX_3.4.29' not found (required by /lib/x86_64-linux-gnu/libproxy.so.1)\n",
      "Failed to load module: /home/tmeng12/snap/code/common/.cache/gio-modules/libgiolibproxy.so\n",
      "/snap/core20/current/lib/x86_64-linux-gnu/libstdc++.so.6: version `GLIBCXX_3.4.29' not found (required by /lib/x86_64-linux-gnu/libproxy.so.1)\n",
      "Failed to load module: /home/tmeng12/snap/code/common/.cache/gio-modules/libgiolibproxy.so\n",
      "/snap/core20/current/lib/x86_64-linux-gnu/libstdc++.so.6: version `GLIBCXX_3.4.29' not found (required by /lib/x86_64-linux-gnu/libproxy.so.1)\n",
      "Failed to load module: /home/tmeng12/snap/code/common/.cache/gio-modules/libgiolibproxy.so\n",
      "/snap/core20/current/lib/x86_64-linux-gnu/libstdc++.so.6: version `GLIBCXX_3.4.29' not found (required by /lib/x86_64-linux-gnu/libproxy.so.1)\n",
      "Failed to load module: /home/tmeng12/snap/code/common/.cache/gio-modules/libgiolibproxy.so\n",
      "/snap/core20/current/lib/x86_64-linux-gnu/libstdc++.so.6: version `GLIBCXX_3.4.29' not found (required by /lib/x86_64-linux-gnu/libproxy.so.1)\n",
      "Failed to load module: /home/tmeng12/snap/code/common/.cache/gio-modules/libgiolibproxy.so\n",
      "/snap/core20/current/lib/x86_64-linux-gnu/libstdc++.so.6: version `GLIBCXX_3.4.29' not found (required by /lib/x86_64-linux-gnu/libproxy.so.1)\n",
      "Failed to load module: /home/tmeng12/snap/code/common/.cache/gio-modules/libgiolibproxy.so\n",
      "/snap/core20/current/lib/x86_64-linux-gnu/libstdc++.so.6: version `GLIBCXX_3.4.29' not found (required by /lib/x86_64-linux-gnu/libproxy.so.1)\n",
      "Failed to load module: /home/tmeng12/snap/code/common/.cache/gio-modules/libgiolibproxy.so\n"
     ]
    },
    {
     "name": "stdout",
     "output_type": "stream",
     "text": [
      "backward add v024            0.00 ->   1.00  v025            0.00 ->   1.00\n",
      "backward mul v006 L2 N1 w2   0.00 ->   0.98  v022 L1 N2  a   0.00 ->   1.10\n",
      "backward add v004 L1 N2  b   0.00 ->   1.10  v021            0.00 ->   1.10\n",
      "backward mul v003 L1 N2 w1   0.00 ->   4.40  v008       i1   0.00 ->   0.29\n",
      "backward add v007 L2 N1  b   0.00 ->   1.00  v023            0.00 ->   1.00\n",
      "backward mul v005 L2 N1 w1   0.00 ->   1.49  v020 L1 N1  a   0.00 ->   0.50\n",
      "backward add v002 L1 N1  b   0.00 ->   0.50  v019            0.00 ->   0.50\n",
      "backward mul v001 L1 N1 w1   0.00 ->   2.00  v008       i1   0.29 ->   0.48\n",
      "bwd\n",
      "loss Value(name=v027,layernumber=,neuronnumber=,weightnumber=,type=l,data=3.1435289999999996, grad=0)\n",
      "upd\n",
      "loss Value(name=v027,layernumber=,neuronnumber=,weightnumber=,type=l,data=3.1435289999999996, grad=0)\n",
      "step   2 output 1.7730 loss 3.1435\n",
      "start step 2\n",
      "act\n",
      "loss Value(name=v036,layernumber=,neuronnumber=,weightnumber=,type=l,data=0.16036220475624982, grad=0)\n",
      "zer\n",
      "loss Value(name=v036,layernumber=,neuronnumber=,weightnumber=,type=l,data=0.16036220475624982, grad=0)\n"
     ]
    },
    {
     "name": "stderr",
     "output_type": "stream",
     "text": [
      "/snap/core20/current/lib/x86_64-linux-gnu/libstdc++.so.6: version `GLIBCXX_3.4.29' not found (required by /lib/x86_64-linux-gnu/libproxy.so.1)\n",
      "Failed to load module: /home/tmeng12/snap/code/common/.cache/gio-modules/libgiolibproxy.so\n",
      "/snap/core20/current/lib/x86_64-linux-gnu/libstdc++.so.6: version `GLIBCXX_3.4.29' not found (required by /lib/x86_64-linux-gnu/libproxy.so.1)\n",
      "Failed to load module: /home/tmeng12/snap/code/common/.cache/gio-modules/libgiolibproxy.so\n",
      "/snap/core20/current/lib/x86_64-linux-gnu/libstdc++.so.6: version `GLIBCXX_3.4.29' not found (required by /lib/x86_64-linux-gnu/libproxy.so.1)\n",
      "Failed to load module: /home/tmeng12/snap/code/common/.cache/gio-modules/libgiolibproxy.so\n",
      "/snap/core20/current/lib/x86_64-linux-gnu/libstdc++.so.6: version `GLIBCXX_3.4.29' not found (required by /lib/x86_64-linux-gnu/libproxy.so.1)\n",
      "Failed to load module: /home/tmeng12/snap/code/common/.cache/gio-modules/libgiolibproxy.so\n",
      "/snap/core20/current/lib/x86_64-linux-gnu/libstdc++.so.6: version `GLIBCXX_3.4.29' not found (required by /lib/x86_64-linux-gnu/libproxy.so.1)\n",
      "Failed to load module: /home/tmeng12/snap/code/common/.cache/gio-modules/libgiolibproxy.so\n",
      "/snap/core20/current/lib/x86_64-linux-gnu/libstdc++.so.6: version `GLIBCXX_3.4.29' not found (required by /lib/x86_64-linux-gnu/libproxy.so.1)\n",
      "Failed to load module: /home/tmeng12/snap/code/common/.cache/gio-modules/libgiolibproxy.so\n",
      "/snap/core20/current/lib/x86_64-linux-gnu/libstdc++.so.6: version `GLIBCXX_3.4.29' not found (required by /lib/x86_64-linux-gnu/libproxy.so.1)\n",
      "Failed to load module: /home/tmeng12/snap/code/common/.cache/gio-modules/libgiolibproxy.so\n"
     ]
    },
    {
     "name": "stdout",
     "output_type": "stream",
     "text": [
      "backward add v033            0.00 ->   1.00  v034            0.00 ->   1.00\n",
      "backward add v007 L2 N1  b   0.00 ->   1.00  v032            0.00 ->   1.00\n",
      "backward mul v005 L2 N1 w1   0.00 ->   1.06  v029 L1 N1  a   0.00 ->   0.43\n",
      "backward add v002 L1 N1  b   0.00 ->   0.43  v028            0.00 ->   0.43\n",
      "backward mul v001 L1 N1 w1   0.00 ->   1.70  v008       i1   0.00 ->   0.12\n",
      "backward mul v006 L2 N1 w2   0.00 ->   0.04  v031 L1 N2  a   0.00 ->   1.05\n",
      "backward add v004 L1 N2  b   0.00 ->   1.05  v030            0.00 ->   1.05\n",
      "backward mul v003 L1 N2 w1   0.00 ->   4.20  v008       i1   0.12 ->   0.16\n",
      "bwd\n",
      "loss Value(name=v036,layernumber=,neuronnumber=,weightnumber=,type=l,data=0.16036220475624982, grad=0)\n",
      "upd\n",
      "loss Value(name=v036,layernumber=,neuronnumber=,weightnumber=,type=l,data=0.16036220475624982, grad=0)\n",
      "step   3 output 0.4005 loss 0.1604\n",
      "start step 3\n",
      "act\n",
      "loss Value(name=v045,layernumber=,neuronnumber=,weightnumber=,type=l,data=0.6051195905908857, grad=0)\n"
     ]
    },
    {
     "name": "stderr",
     "output_type": "stream",
     "text": [
      "/snap/core20/current/lib/x86_64-linux-gnu/libstdc++.so.6: version `GLIBCXX_3.4.29' not found (required by /lib/x86_64-linux-gnu/libproxy.so.1)\n",
      "Failed to load module: /home/tmeng12/snap/code/common/.cache/gio-modules/libgiolibproxy.so\n",
      "/snap/core20/current/lib/x86_64-linux-gnu/libstdc++.so.6: version `GLIBCXX_3.4.29' not found (required by /lib/x86_64-linux-gnu/libproxy.so.1)\n",
      "Failed to load module: /home/tmeng12/snap/code/common/.cache/gio-modules/libgiolibproxy.so\n",
      "/snap/core20/current/lib/x86_64-linux-gnu/libstdc++.so.6: version `GLIBCXX_3.4.29' not found (required by /lib/x86_64-linux-gnu/libproxy.so.1)\n",
      "Failed to load module: /home/tmeng12/snap/code/common/.cache/gio-modules/libgiolibproxy.so\n",
      "/snap/core20/current/lib/x86_64-linux-gnu/libstdc++.so.6: version `GLIBCXX_3.4.29' not found (required by /lib/x86_64-linux-gnu/libproxy.so.1)\n",
      "Failed to load module: /home/tmeng12/snap/code/common/.cache/gio-modules/libgiolibproxy.so\n",
      "/snap/core20/current/lib/x86_64-linux-gnu/libstdc++.so.6: version `GLIBCXX_3.4.29' not found (required by /lib/x86_64-linux-gnu/libproxy.so.1)\n",
      "Failed to load module: /home/tmeng12/snap/code/common/.cache/gio-modules/libgiolibproxy.so\n"
     ]
    },
    {
     "name": "stdout",
     "output_type": "stream",
     "text": [
      "zer\n",
      "loss Value(name=v045,layernumber=,neuronnumber=,weightnumber=,type=l,data=0.6051195905908857, grad=0)\n",
      "backward add v042            0.00 ->   1.00  v043            0.00 ->   1.00\n",
      "backward add v007 L2 N1  b   0.00 ->   1.00  v041            0.00 ->   1.00\n",
      "backward mul v005 L2 N1 w1   0.00 ->   0.70  v038 L1 N1  a   0.00 ->   0.37\n",
      "backward add v002 L1 N1  b   0.00 ->   0.37  v037            0.00 ->   0.37\n",
      "backward mul v001 L1 N1 w1   0.00 ->   1.49  v008       i1   0.00 ->   0.07\n",
      "backward mul v006 L2 N1 w2   0.00 ->  -0.85  v040 L1 N2  a   0.00 ->   1.05\n",
      "backward add v004 L1 N2  b   0.00 ->   1.05  v039            0.00 ->   1.05\n",
      "backward mul v003 L1 N2 w1   0.00 ->   4.20  v008       i1   0.07 ->  -0.11\n",
      "bwd\n",
      "loss Value(name=v045,layernumber=,neuronnumber=,weightnumber=,type=l,data=0.6051195905908857, grad=0)\n",
      "upd\n",
      "loss Value(name=v045,layernumber=,neuronnumber=,weightnumber=,type=l,data=0.6051195905908857, grad=0)\n",
      "step   4 output -0.7779 loss 0.6051\n",
      "start step 4\n",
      "act\n",
      "loss Value(name=v054,layernumber=,neuronnumber=,weightnumber=,type=l,data=3.872936072165557, grad=0)\n"
     ]
    },
    {
     "name": "stderr",
     "output_type": "stream",
     "text": [
      "/snap/core20/current/lib/x86_64-linux-gnu/libstdc++.so.6: version `GLIBCXX_3.4.29' not found (required by /lib/x86_64-linux-gnu/libproxy.so.1)\n",
      "Failed to load module: /home/tmeng12/snap/code/common/.cache/gio-modules/libgiolibproxy.so\n",
      "/snap/core20/current/lib/x86_64-linux-gnu/libstdc++.so.6: version `GLIBCXX_3.4.29' not found (required by /lib/x86_64-linux-gnu/libproxy.so.1)\n",
      "Failed to load module: /home/tmeng12/snap/code/common/.cache/gio-modules/libgiolibproxy.so\n",
      "/snap/core20/current/lib/x86_64-linux-gnu/libstdc++.so.6: version `GLIBCXX_3.4.29' not found (required by /lib/x86_64-linux-gnu/libproxy.so.1)\n",
      "Failed to load module: /home/tmeng12/snap/code/common/.cache/gio-modules/libgiolibproxy.so\n",
      "/snap/core20/current/lib/x86_64-linux-gnu/libstdc++.so.6: version `GLIBCXX_3.4.29' not found (required by /lib/x86_64-linux-gnu/libproxy.so.1)\n",
      "Failed to load module: /home/tmeng12/snap/code/common/.cache/gio-modules/libgiolibproxy.so\n",
      "/snap/core20/current/lib/x86_64-linux-gnu/libstdc++.so.6: version `GLIBCXX_3.4.29' not found (required by /lib/x86_64-linux-gnu/libproxy.so.1)\n",
      "Failed to load module: /home/tmeng12/snap/code/common/.cache/gio-modules/libgiolibproxy.so\n",
      "/snap/core20/current/lib/x86_64-linux-gnu/libstdc++.so.6: version `GLIBCXX_3.4.29' not found (required by /lib/x86_64-linux-gnu/libproxy.so.1)\n",
      "Failed to load module: /home/tmeng12/snap/code/common/.cache/gio-modules/libgiolibproxy.so\n",
      "/snap/core20/current/lib/x86_64-linux-gnu/libstdc++.so.6: version `GLIBCXX_3.4.29' not found (required by /lib/x86_64-linux-gnu/libproxy.so.1)\n",
      "Failed to load module: /home/tmeng12/snap/code/common/.cache/gio-modules/libgiolibproxy.so\n"
     ]
    },
    {
     "name": "stdout",
     "output_type": "stream",
     "text": [
      "zer\n",
      "loss Value(name=v054,layernumber=,neuronnumber=,weightnumber=,type=l,data=3.872936072165557, grad=0)\n",
      "backward add v051            0.00 ->   1.00  v052            0.00 ->   1.00\n",
      "backward mul v006 L2 N1 w2   0.00 ->  -1.74  v049 L1 N2  a   0.00 ->   1.09\n",
      "backward add v004 L1 N2  b   0.00 ->   1.09  v048            0.00 ->   1.09\n",
      "backward mul v003 L1 N2 w1   0.00 ->   4.36  v008       i1   0.00 ->  -0.41\n",
      "backward add v007 L2 N1  b   0.00 ->   1.00  v050            0.00 ->   1.00\n",
      "backward mul v005 L2 N1 w1   0.00 ->   0.39  v047 L1 N1  a   0.00 ->   0.34\n",
      "backward add v002 L1 N1  b   0.00 ->   0.34  v046            0.00 ->   0.34\n",
      "backward mul v001 L1 N1 w1   0.00 ->   1.35  v008       i1  -0.41 ->  -0.37\n",
      "bwd\n",
      "loss Value(name=v054,layernumber=,neuronnumber=,weightnumber=,type=l,data=3.872936072165557, grad=0)\n"
     ]
    },
    {
     "name": "stderr",
     "output_type": "stream",
     "text": [
      "/snap/core20/current/lib/x86_64-linux-gnu/libstdc++.so.6: version `GLIBCXX_3.4.29' not found (required by /lib/x86_64-linux-gnu/libproxy.so.1)\n",
      "Failed to load module: /home/tmeng12/snap/code/common/.cache/gio-modules/libgiolibproxy.so\n",
      "/snap/core20/current/lib/x86_64-linux-gnu/libstdc++.so.6: version `GLIBCXX_3.4.29' not found (required by /lib/x86_64-linux-gnu/libproxy.so.1)\n",
      "Failed to load module: /home/tmeng12/snap/code/common/.cache/gio-modules/libgiolibproxy.so\n",
      "/snap/core20/current/lib/x86_64-linux-gnu/libstdc++.so.6: version `GLIBCXX_3.4.29' not found (required by /lib/x86_64-linux-gnu/libproxy.so.1)\n",
      "Failed to load module: /home/tmeng12/snap/code/common/.cache/gio-modules/libgiolibproxy.so\n",
      "/snap/core20/current/lib/x86_64-linux-gnu/libstdc++.so.6: version `GLIBCXX_3.4.29' not found (required by /lib/x86_64-linux-gnu/libproxy.so.1)\n",
      "Failed to load module: /home/tmeng12/snap/code/common/.cache/gio-modules/libgiolibproxy.so\n",
      "/snap/core20/current/lib/x86_64-linux-gnu/libstdc++.so.6: version `GLIBCXX_3.4.29' not found (required by /lib/x86_64-linux-gnu/libproxy.so.1)\n",
      "Failed to load module: /home/tmeng12/snap/code/common/.cache/gio-modules/libgiolibproxy.so\n",
      "/snap/core20/current/lib/x86_64-linux-gnu/libstdc++.so.6: version `GLIBCXX_3.4.29' not found (required by /lib/x86_64-linux-gnu/libproxy.so.1)\n",
      "Failed to load module: /home/tmeng12/snap/code/common/.cache/gio-modules/libgiolibproxy.so\n",
      "/snap/core20/current/lib/x86_64-linux-gnu/libstdc++.so.6: version `GLIBCXX_3.4.29' not found (required by /lib/x86_64-linux-gnu/libproxy.so.1)\n",
      "Failed to load module: /home/tmeng12/snap/code/common/.cache/gio-modules/libgiolibproxy.so\n",
      "/snap/core20/current/lib/x86_64-linux-gnu/libstdc++.so.6: version `GLIBCXX_3.4.29' not found (required by /lib/x86_64-linux-gnu/libproxy.so.1)\n",
      "Failed to load module: /home/tmeng12/snap/code/common/.cache/gio-modules/libgiolibproxy.so\n"
     ]
    },
    {
     "name": "stdout",
     "output_type": "stream",
     "text": [
      "upd\n",
      "loss Value(name=v054,layernumber=,neuronnumber=,weightnumber=,type=l,data=3.872936072165557, grad=0)\n",
      "step   5 output -1.9680 loss 3.8729\n"
     ]
    }
   ],
   "source": [
    "def opt():\n",
    "    global loss\n",
    "\n",
    "    for k in range(number_of_iterations):\n",
    "        print(\"start step %d\" % k)\n",
    "        optStep(filename=\"default\")\n",
    "        # print(f\"step %3d output %6.4f loss %6.4f\" % (k, activation.data, loss.data))\n",
    "\n",
    "opt()"
   ]
  },
  {
   "cell_type": "code",
   "execution_count": 69,
   "metadata": {},
   "outputs": [],
   "source": [
    "# optStep(filename=\"default\")"
   ]
  },
  {
   "cell_type": "code",
   "execution_count": 70,
   "metadata": {},
   "outputs": [],
   "source": [
    "# optStep(filename=\"default\")"
   ]
  },
  {
   "cell_type": "code",
   "execution_count": 71,
   "metadata": {},
   "outputs": [],
   "source": [
    "# optStep(filename=\"default\")\n",
    "# optStep(filename=\"default\")"
   ]
  }
 ],
 "metadata": {
  "kernelspec": {
   "display_name": "Python 3",
   "language": "python",
   "name": "python3"
  },
  "language_info": {
   "codemirror_mode": {
    "name": "ipython",
    "version": 3
   },
   "file_extension": ".py",
   "mimetype": "text/x-python",
   "name": "python",
   "nbconvert_exporter": "python",
   "pygments_lexer": "ipython3",
   "version": "3.10.12"
  }
 },
 "nbformat": 4,
 "nbformat_minor": 2
}
