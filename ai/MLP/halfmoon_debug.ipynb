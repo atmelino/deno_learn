{
 "cells": [
  {
   "cell_type": "markdown",
   "metadata": {},
   "source": [
    "###  MicroGrad demo"
   ]
  },
  {
   "cell_type": "code",
   "execution_count": 6,
   "metadata": {},
   "outputs": [],
   "source": [
    "import random\n",
    "import numpy as np\n",
    "import matplotlib.pyplot as plt\n",
    "%matplotlib inline\n",
    "from mycrograd_debug.engine_debug import Value\n",
    "from mycrograd_debug.nn_debug import Neuron, Layer, MLP\n",
    "from mycrograd_debug.drawviz_debug import draw_dot,draw_nn\n",
    "import pprint\n",
    "np.random.seed(1337)\n",
    "random.seed(1337)\n",
    "number_of_samples=2\n",
    "number_of_iterations=2\n",
    "pp = pprint.PrettyPrinter(indent=4)"
   ]
  },
  {
   "cell_type": "code",
   "execution_count": 7,
   "metadata": {},
   "outputs": [
    {
     "name": "stdout",
     "output_type": "stream",
     "text": [
      "array([[ 0.8572558 ,  0.03006228],\n",
      "       [-0.05120403,  0.50473341]])\n",
      "array([0, 1])\n",
      "array([-1,  1])\n"
     ]
    }
   ],
   "source": [
    "# make up a dataset\n",
    "\n",
    "from sklearn.datasets import make_moons, make_blobs\n",
    "X, y = make_moons(n_samples=number_of_samples, noise=0.1)\n",
    "pp.pprint(X)\n",
    "pp.pprint(y)\n",
    "y = y*2 - 1 # make y be -1 or 1\n",
    "pp.pprint(y)"
   ]
  },
  {
   "cell_type": "code",
   "execution_count": 8,
   "metadata": {},
   "outputs": [
    {
     "name": "stdout",
     "output_type": "stream",
     "text": [
      "Module nn MLP: structure [2, 2, 1]\n",
      "[   [   Value(name=v280,layernumber=,neuronnumber=,weightnumber=,type=,data=0.8572557995669348, grad=0),\n",
      "        Value(name=v281,layernumber=,neuronnumber=,weightnumber=,type=,data=0.03006227935826109, grad=0)],\n",
      "    [   Value(name=v282,layernumber=,neuronnumber=,weightnumber=,type=,data=-0.051204029028939925, grad=0),\n",
      "        Value(name=v283,layernumber=,neuronnumber=,weightnumber=,type=,data=0.5047334093296381, grad=0)]]\n",
      "[   [   Value(name=v280,layernumber=,neuronnumber=,weightnumber=,type=i,data=0.8572557995669348, grad=0),\n",
      "        Value(name=v281,layernumber=,neuronnumber=,weightnumber=,type=i,data=0.03006227935826109, grad=0)],\n",
      "    [   Value(name=v282,layernumber=,neuronnumber=,weightnumber=,type=i,data=-0.051204029028939925, grad=0),\n",
      "        Value(name=v283,layernumber=,neuronnumber=,weightnumber=,type=i,data=0.5047334093296381, grad=0)]]\n"
     ]
    }
   ],
   "source": [
    "# initialize a model \n",
    "# model = MLP(2, [16, 16, 1]) # 2-layer neural network\n",
    "model = MLP(2, [2, 1], debug_bw=False) # 2-layer neural network\n",
    "# print(model)\n",
    "# pp.pprint(model.parameters())\n",
    "Xb, yb = X, y\n",
    "inputs = [list(map(Value, xrow)) for xrow in Xb]\n",
    "pp.pprint(inputs)\n",
    "for i in range(len(inputs)):\n",
    "    for j in range(len(inputs[i])):\n",
    "        inputs[i][j].type = \"i\"\n",
    "pp.pprint(inputs)"
   ]
  },
  {
   "cell_type": "code",
   "execution_count": 9,
   "metadata": {},
   "outputs": [
    {
     "name": "stdout",
     "output_type": "stream",
     "text": [
      "Value(name=v348,layernumber=,neuronnumber=,weightnumber=,type=,data=0.9065883811424296, grad=0) 1.0\n"
     ]
    }
   ],
   "source": [
    "# loss function\n",
    "def loss():\n",
    "    \n",
    "    # forward the model to get scores\n",
    "    scores = list(map(model, inputs))\n",
    "    \n",
    "    # svm \"max-margin\" loss\n",
    "    losses = [(1 + -yi*scorei).relu() for yi, scorei in zip(yb, scores)]\n",
    "    data_loss = sum(losses) * (1.0 / len(losses))\n",
    "    # L2 regularization\n",
    "    alpha = 1e-4\n",
    "    reg_loss = alpha * sum((p*p for p in model.parameters()))\n",
    "    total_loss = data_loss + reg_loss\n",
    "    \n",
    "    # also get accuracy\n",
    "    accuracy = [(yi > 0) == (scorei.data > 0) for yi, scorei in zip(yb, scores)]\n",
    "    return total_loss, sum(accuracy) / len(accuracy)\n",
    "\n",
    "total_loss, acc = loss()\n",
    "print(total_loss, acc)"
   ]
  },
  {
   "cell_type": "code",
   "execution_count": 10,
   "metadata": {},
   "outputs": [
    {
     "name": "stdout",
     "output_type": "stream",
     "text": [
      "start\n",
      "step 0 loss 0.9065883811424296, accuracy 100.0%\n",
      "start\n",
      "step 1 loss 0.6796366507619458, accuracy 100.0%\n"
     ]
    },
    {
     "name": "stderr",
     "output_type": "stream",
     "text": [
      "/snap/core20/current/lib/x86_64-linux-gnu/libstdc++.so.6: version `GLIBCXX_3.4.29' not found (required by /lib/x86_64-linux-gnu/libproxy.so.1)\n",
      "Failed to load module: /home/tmeng12/snap/code/common/.cache/gio-modules/libgiolibproxy.so\n"
     ]
    },
    {
     "name": "stderr",
     "output_type": "stream",
     "text": [
      "/snap/core20/current/lib/x86_64-linux-gnu/libstdc++.so.6: version `GLIBCXX_3.4.29' not found (required by /lib/x86_64-linux-gnu/libproxy.so.1)\n",
      "Failed to load module: /home/tmeng12/snap/code/common/.cache/gio-modules/libgiolibproxy.so\n"
     ]
    }
   ],
   "source": [
    "\n",
    "\n",
    "# optimization\n",
    "for k in range(number_of_iterations):\n",
    "    print(\"start\")\n",
    "    # pp.pprint(model.parameters())\n",
    "\n",
    "    # forward\n",
    "    total_loss, acc = loss()\n",
    "    dot=draw_dot(total_loss)\n",
    "    dot.render(\"images/opt_01_step%d\" % k , format=\"jpg\", view=True)\n",
    "\n",
    "\n",
    "    # backward\n",
    "    model.zero_grad()\n",
    "    total_loss.backward()\n",
    "    \n",
    "    # update (sgd)\n",
    "    learning_rate = 1.0 - 0.9*k/100\n",
    "    for p in model.parameters():\n",
    "        p.data -= learning_rate * p.grad\n",
    "    \n",
    "    if k % 1 == 0:\n",
    "        print(f\"step {k} loss {total_loss.data}, accuracy {acc*100}%\")\n"
   ]
  },
  {
   "cell_type": "code",
   "execution_count": null,
   "metadata": {},
   "outputs": [],
   "source": []
  }
 ],
 "metadata": {
  "kernelspec": {
   "display_name": "Python 3",
   "language": "python",
   "name": "python3"
  },
  "language_info": {
   "codemirror_mode": {
    "name": "ipython",
    "version": 3
   },
   "file_extension": ".py",
   "mimetype": "text/x-python",
   "name": "python",
   "nbconvert_exporter": "python",
   "pygments_lexer": "ipython3",
   "version": "3.10.12"
  }
 },
 "nbformat": 4,
 "nbformat_minor": 2
}
