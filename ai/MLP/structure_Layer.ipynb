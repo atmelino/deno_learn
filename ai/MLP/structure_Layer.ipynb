{
 "cells": [
  {
   "cell_type": "markdown",
   "metadata": {},
   "source": [
    "###  print out structures"
   ]
  },
  {
   "cell_type": "code",
   "execution_count": null,
   "metadata": {},
   "outputs": [],
   "source": [
    "import random\n",
    "import numpy as np\n",
    "from mycrograd_debug.engine_debug import Value\n",
    "from mycrograd_debug.nn_debug import Neuron, Layer, MLP, MLP_linear\n",
    "from mycrograd_debug.drawviz_debug import draw_dot\n",
    "\n",
    "np.random.seed(1337)\n",
    "random.seed(1337)"
   ]
  },
  {
   "cell_type": "markdown",
   "metadata": {},
   "source": [
    "#### Layer"
   ]
  },
  {
   "cell_type": "code",
   "execution_count": null,
   "metadata": {},
   "outputs": [],
   "source": [
    "nin=2  #number of inputs\n",
    "nout=2  #number of outputs\n",
    "\n",
    "Value.value_counter=0\n",
    "\n",
    "myLayer=Layer(nin,nout)\n",
    "print(\"Layer: \",myLayer)\n",
    "print(\"Neurons: \",myLayer.neurons)\n",
    "print(myLayer.parameters())\n",
    "\n",
    "# xinumbers= np.random.randint(1,10, size=(nin))   # inputs\n",
    "xinumbers = list(range(1, nin+1))\n",
    "xinput = [Value(x,type='i') for x in xinumbers]\n",
    "print(\"inputs \", xinput)\n",
    "\n",
    "activation=myLayer(xinput)\n",
    "activation[0].backward()\n",
    "\n",
    "print(\"number of Value objects created = \",Value.value_counter)\n",
    "\n",
    "print(\"activation: \",activation)\n",
    "draw_dot(activation[0])\n",
    "# draw_dot(activation)\n"
   ]
  },
  {
   "cell_type": "code",
   "execution_count": null,
   "metadata": {},
   "outputs": [],
   "source": [
    "activation[1].backward()\n",
    "draw_dot(activation[1])\n"
   ]
  },
  {
   "cell_type": "code",
   "execution_count": null,
   "metadata": {},
   "outputs": [],
   "source": [
    "\n",
    "Value.value_counter=0\n",
    "\n",
    "ys=[1.2,1.3] # desired targets\n",
    "xtarget = [Value(x,type='t') for x in ys]\n",
    "print(\"desired outputs \", xtarget)\n",
    "\n",
    "loss = sum((yout - ygt) ** 2 for ygt, yout in zip(activation, xtarget))\n",
    "loss.backward()\n",
    "print(\"number of Value objects created = \", Value.value_counter)\n",
    "\n",
    "draw_dot(loss)\n"
   ]
  }
 ],
 "metadata": {
  "kernelspec": {
   "display_name": "Python 3",
   "language": "python",
   "name": "python3"
  },
  "language_info": {
   "codemirror_mode": {
    "name": "ipython",
    "version": 3
   },
   "file_extension": ".py",
   "mimetype": "text/x-python",
   "name": "python",
   "nbconvert_exporter": "python",
   "pygments_lexer": "ipython3",
   "version": "3.10.12"
  }
 },
 "nbformat": 4,
 "nbformat_minor": 2
}
