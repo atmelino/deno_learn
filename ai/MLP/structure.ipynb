{
 "cells": [
  {
   "cell_type": "markdown",
   "metadata": {},
   "source": [
    "###  print out structures"
   ]
  },
  {
   "cell_type": "code",
   "execution_count": 2,
   "metadata": {},
   "outputs": [],
   "source": [
    "import random\n",
    "import numpy as np\n",
    "import matplotlib.pyplot as plt\n",
    "%matplotlib inline\n",
    "from mycrograd.engine import Value\n",
    "from mycrograd.nn import Neuron, Layer, MLP"
   ]
  },
  {
   "cell_type": "code",
   "execution_count": 3,
   "metadata": {},
   "outputs": [],
   "source": [
    "np.random.seed(1337)\n",
    "random.seed(1337)"
   ]
  },
  {
   "cell_type": "code",
   "execution_count": 21,
   "metadata": {},
   "outputs": [
    {
     "name": "stdout",
     "output_type": "stream",
     "text": [
      "number of inputs:  3\n",
      "Neuron(2):  ReLUNeuron(3)\n",
      "weights:  [Value(data=0.5808552090645627, grad=0), Value(data=0.09921848842252134, grad=0), Value(data=0.5519936528601597, grad=0)]\n",
      "b:  Value(data=0, grad=0)\n",
      "number of parameters  4\n",
      "inputs  [8 5 2]\n",
      "activation:  Value(data=6.246921420349428, grad=0)\n"
     ]
    }
   ],
   "source": [
    "nin=3\n",
    "myNeuron=Neuron(nin)\n",
    "print(\"number of inputs: \",nin)\n",
    "print(\"Neuron(2): \",myNeuron)\n",
    "print(\"weights: \",myNeuron.w)\n",
    "print(\"b: \",myNeuron.b)\n",
    "print(\"number of parameters \", len(myNeuron.parameters()))\n",
    "# xi=[1,2,3,4]\n",
    "xi= np.random.randint(1,10, size=(nin))\n",
    "print(\"inputs \", xi)\n",
    "print(\"activation: \",myNeuron(xi))\n",
    "\n"
   ]
  },
  {
   "cell_type": "code",
   "execution_count": 4,
   "metadata": {},
   "outputs": [
    {
     "name": "stdout",
     "output_type": "stream",
     "text": [
      "[[ 0.23716815 -0.17338508]\n",
      " [-0.55222318  0.57003313]\n",
      " [ 1.14252914 -0.02794639]\n",
      " [-1.05596279  0.11863834]\n",
      " [ 0.16985189  0.33087798]\n",
      " [-0.06995228  1.05829628]\n",
      " [ 0.80492904  0.58536957]\n",
      " [ 1.86706046  0.49985453]\n",
      " [ 1.57564151 -0.24506796]\n",
      " [ 1.12652106 -0.48793323]]\n",
      "[1 0 0 0 1 0 0 1 1 1]\n"
     ]
    }
   ],
   "source": [
    "# make up a dataset\n",
    "\n",
    "from sklearn.datasets import make_moons, make_blobs\n",
    "X, y = make_moons(n_samples=10, noise=0.1)\n",
    "\n",
    "print(X)\n",
    "print(y)\n",
    "\n",
    "y = y*2 - 1 # make y be -1 or 1\n"
   ]
  },
  {
   "cell_type": "code",
   "execution_count": 5,
   "metadata": {},
   "outputs": [
    {
     "name": "stdout",
     "output_type": "stream",
     "text": [
      "MLP of [Layer of [ReLUNeuron(3), ReLUNeuron(3), ReLUNeuron(3), ReLUNeuron(3)], Layer of [ReLUNeuron(4), ReLUNeuron(4), ReLUNeuron(4), ReLUNeuron(4)], Layer of [LinearNeuron(4)]]\n",
      "number of parameters 41\n"
     ]
    }
   ],
   "source": [
    "# initialize a model \n",
    "model = MLP(3, [4, 4, 1]) # 2-layer neural network\n",
    "print(model)\n",
    "print(\"number of parameters\", len(model.parameters()))"
   ]
  },
  {
   "cell_type": "code",
   "execution_count": 6,
   "metadata": {},
   "outputs": [
    {
     "name": "stdout",
     "output_type": "stream",
     "text": [
      "MLP of [Layer of [ReLUNeuron(3), ReLUNeuron(3), ReLUNeuron(3), ReLUNeuron(3)], Layer of [ReLUNeuron(4), ReLUNeuron(4), ReLUNeuron(4), ReLUNeuron(4)], Layer of [LinearNeuron(4)]]\n",
      "[[Value(data=0.23716814800105823, grad=0), Value(data=-0.1733850803423769, grad=0)], [Value(data=-0.5522231840196069, grad=0), Value(data=0.5700331253604513, grad=0)], [Value(data=1.1425291398662902, grad=0), Value(data=-0.027946390980293462, grad=0)], [Value(data=-1.0559627906760132, grad=0), Value(data=0.11863833674456072, grad=0)], [Value(data=0.16985189051376626, grad=0), Value(data=0.3308779842359495, grad=0)], [Value(data=-0.069952284423216, grad=0), Value(data=1.0582962841937447, grad=0)], [Value(data=0.8049290441685284, grad=0), Value(data=0.5853695706393609, grad=0)], [Value(data=1.8670604551568166, grad=0), Value(data=0.49985452577335704, grad=0)], [Value(data=1.575641512808095, grad=0), Value(data=-0.24506795552830413, grad=0)], [Value(data=1.1265210647376644, grad=0), Value(data=-0.4879332255931098, grad=0)]]\n",
      "[Value(data=0.16635789865605816, grad=0), Value(data=0.8407527318533012, grad=0), Value(data=0.3650390698290702, grad=0), Value(data=0.5671592353200772, grad=0), Value(data=0.3247909568456104, grad=0), Value(data=1.198570856767975, grad=0), Value(data=0.4431939245336829, grad=0), Value(data=0.3485481582055579, grad=0), Value(data=0.6150511532492101, grad=0), Value(data=0.6087682186298902, grad=0)]\n",
      "[Value(data=0.16635789865605816, grad=0), Value(data=0.8407527318533012, grad=0), Value(data=0.3650390698290702, grad=0), Value(data=0.5671592353200772, grad=0), Value(data=0.3247909568456104, grad=0), Value(data=1.198570856767975, grad=0), Value(data=0.4431939245336829, grad=0), Value(data=0.3485481582055579, grad=0), Value(data=0.6150511532492101, grad=0), Value(data=0.6087682186298902, grad=0)]\n",
      "Value(data=1.1361154948345775, grad=0) 0.5\n"
     ]
    }
   ],
   "source": [
    "# loss function\n",
    "def loss(batch_size=None):\n",
    "    \n",
    "    # inline DataLoader :)\n",
    "    if batch_size is None:\n",
    "        Xb, yb = X, y\n",
    "    else:\n",
    "        ri = np.random.permutation(X.shape[0])[:batch_size]\n",
    "        Xb, yb = X[ri], y[ri]\n",
    "    inputs = [list(map(Value, xrow)) for xrow in Xb]\n",
    "    \n",
    "    # forward the model to get scores\n",
    "    scores = list(map(model, inputs))\n",
    "    print(model)\n",
    "    print(inputs)\n",
    "    print(list(map(model, inputs)))\n",
    "    print(scores)\n",
    "\n",
    "    # svm \"max-margin\" loss\n",
    "    losses = [(1 + -yi*scorei).relu() for yi, scorei in zip(yb, scores)]\n",
    "    data_loss = sum(losses) * (1.0 / len(losses))\n",
    "    # L2 regularization\n",
    "    alpha = 1e-4\n",
    "    reg_loss = alpha * sum((p*p for p in model.parameters()))\n",
    "    total_loss = data_loss + reg_loss\n",
    "    \n",
    "    # also get accuracy\n",
    "    accuracy = [(yi > 0) == (scorei.data > 0) for yi, scorei in zip(yb, scores)]\n",
    "    return total_loss, sum(accuracy) / len(accuracy)\n",
    "\n",
    "total_loss, acc = loss()\n",
    "print(total_loss, acc)"
   ]
  },
  {
   "cell_type": "code",
   "execution_count": 7,
   "metadata": {},
   "outputs": [
    {
     "name": "stdout",
     "output_type": "stream",
     "text": [
      "MLP of [Layer of [ReLUNeuron(3), ReLUNeuron(3), ReLUNeuron(3), ReLUNeuron(3)], Layer of [ReLUNeuron(4), ReLUNeuron(4), ReLUNeuron(4), ReLUNeuron(4)], Layer of [LinearNeuron(4)]]\n",
      "[[Value(data=0.23716814800105823, grad=0), Value(data=-0.1733850803423769, grad=0)], [Value(data=-0.5522231840196069, grad=0), Value(data=0.5700331253604513, grad=0)], [Value(data=1.1425291398662902, grad=0), Value(data=-0.027946390980293462, grad=0)], [Value(data=-1.0559627906760132, grad=0), Value(data=0.11863833674456072, grad=0)], [Value(data=0.16985189051376626, grad=0), Value(data=0.3308779842359495, grad=0)], [Value(data=-0.069952284423216, grad=0), Value(data=1.0582962841937447, grad=0)], [Value(data=0.8049290441685284, grad=0), Value(data=0.5853695706393609, grad=0)], [Value(data=1.8670604551568166, grad=0), Value(data=0.49985452577335704, grad=0)], [Value(data=1.575641512808095, grad=0), Value(data=-0.24506795552830413, grad=0)], [Value(data=1.1265210647376644, grad=0), Value(data=-0.4879332255931098, grad=0)]]\n",
      "[Value(data=0.16635789865605816, grad=0), Value(data=0.8407527318533012, grad=0), Value(data=0.3650390698290702, grad=0), Value(data=0.5671592353200772, grad=0), Value(data=0.3247909568456104, grad=0), Value(data=1.198570856767975, grad=0), Value(data=0.4431939245336829, grad=0), Value(data=0.3485481582055579, grad=0), Value(data=0.6150511532492101, grad=0), Value(data=0.6087682186298902, grad=0)]\n",
      "[Value(data=0.16635789865605816, grad=0), Value(data=0.8407527318533012, grad=0), Value(data=0.3650390698290702, grad=0), Value(data=0.5671592353200772, grad=0), Value(data=0.3247909568456104, grad=0), Value(data=1.198570856767975, grad=0), Value(data=0.4431939245336829, grad=0), Value(data=0.3485481582055579, grad=0), Value(data=0.6150511532492101, grad=0), Value(data=0.6087682186298902, grad=0)]\n",
      "step 0 loss 1.1361154948345775, accuracy 50.0%\n",
      "MLP of [Layer of [ReLUNeuron(3), ReLUNeuron(3), ReLUNeuron(3), ReLUNeuron(3)], Layer of [ReLUNeuron(4), ReLUNeuron(4), ReLUNeuron(4), ReLUNeuron(4)], Layer of [LinearNeuron(4)]]\n",
      "[[Value(data=0.23716814800105823, grad=0), Value(data=-0.1733850803423769, grad=0)], [Value(data=-0.5522231840196069, grad=0), Value(data=0.5700331253604513, grad=0)], [Value(data=1.1425291398662902, grad=0), Value(data=-0.027946390980293462, grad=0)], [Value(data=-1.0559627906760132, grad=0), Value(data=0.11863833674456072, grad=0)], [Value(data=0.16985189051376626, grad=0), Value(data=0.3308779842359495, grad=0)], [Value(data=-0.069952284423216, grad=0), Value(data=1.0582962841937447, grad=0)], [Value(data=0.8049290441685284, grad=0), Value(data=0.5853695706393609, grad=0)], [Value(data=1.8670604551568166, grad=0), Value(data=0.49985452577335704, grad=0)], [Value(data=1.575641512808095, grad=0), Value(data=-0.24506795552830413, grad=0)], [Value(data=1.1265210647376644, grad=0), Value(data=-0.4879332255931098, grad=0)]]\n",
      "[Value(data=0.5082031168630629, grad=0), Value(data=0.0282435236702223, grad=0), Value(data=0.9497277420480732, grad=0), Value(data=-0.010548810867934293, grad=0), Value(data=0.05994215126787182, grad=0), Value(data=0.19317933390073616, grad=0), Value(data=0.20536112539404336, grad=0), Value(data=1.0110128060193027, grad=0), Value(data=1.3644682232595353, grad=0), Value(data=1.2666314242340784, grad=0)]\n",
      "[Value(data=0.5082031168630629, grad=0), Value(data=0.0282435236702223, grad=0), Value(data=0.9497277420480732, grad=0), Value(data=-0.010548810867934293, grad=0), Value(data=0.05994215126787182, grad=0), Value(data=0.19317933390073616, grad=0), Value(data=0.20536112539404336, grad=0), Value(data=1.0110128060193027, grad=0), Value(data=1.3644682232595353, grad=0), Value(data=1.2666314242340784, grad=0)]\n",
      "step 1 loss 0.7807478419838042, accuracy 60.0%\n",
      "MLP of [Layer of [ReLUNeuron(3), ReLUNeuron(3), ReLUNeuron(3), ReLUNeuron(3)], Layer of [ReLUNeuron(4), ReLUNeuron(4), ReLUNeuron(4), ReLUNeuron(4)], Layer of [LinearNeuron(4)]]\n",
      "[[Value(data=0.23716814800105823, grad=0), Value(data=-0.1733850803423769, grad=0)], [Value(data=-0.5522231840196069, grad=0), Value(data=0.5700331253604513, grad=0)], [Value(data=1.1425291398662902, grad=0), Value(data=-0.027946390980293462, grad=0)], [Value(data=-1.0559627906760132, grad=0), Value(data=0.11863833674456072, grad=0)], [Value(data=0.16985189051376626, grad=0), Value(data=0.3308779842359495, grad=0)], [Value(data=-0.069952284423216, grad=0), Value(data=1.0582962841937447, grad=0)], [Value(data=0.8049290441685284, grad=0), Value(data=0.5853695706393609, grad=0)], [Value(data=1.8670604551568166, grad=0), Value(data=0.49985452577335704, grad=0)], [Value(data=1.575641512808095, grad=0), Value(data=-0.24506795552830413, grad=0)], [Value(data=1.1265210647376644, grad=0), Value(data=-0.4879332255931098, grad=0)]]\n",
      "[Value(data=-0.025766772598165885, grad=0), Value(data=-0.415140955489184, grad=0), Value(data=0.22275505231922024, grad=0), Value(data=-0.3984540284725958, grad=0), Value(data=-0.36951529156971397, grad=0), Value(data=-0.4094919078854563, grad=0), Value(data=-0.34457105994113824, grad=0), Value(data=0.1713997318099865, grad=0), Value(data=0.5363618435445934, grad=0), Value(data=0.5290251949372154, grad=0)]\n",
      "[Value(data=-0.025766772598165885, grad=0), Value(data=-0.415140955489184, grad=0), Value(data=0.22275505231922024, grad=0), Value(data=-0.3984540284725958, grad=0), Value(data=-0.36951529156971397, grad=0), Value(data=-0.4094919078854563, grad=0), Value(data=-0.34457105994113824, grad=0), Value(data=0.1713997318099865, grad=0), Value(data=0.5363618435445934, grad=0), Value(data=0.5290251949372154, grad=0)]\n",
      "step 2 loss 0.7822986216763186, accuracy 70.0%\n",
      "MLP of [Layer of [ReLUNeuron(3), ReLUNeuron(3), ReLUNeuron(3), ReLUNeuron(3)], Layer of [ReLUNeuron(4), ReLUNeuron(4), ReLUNeuron(4), ReLUNeuron(4)], Layer of [LinearNeuron(4)]]\n",
      "[[Value(data=0.23716814800105823, grad=0), Value(data=-0.1733850803423769, grad=0)], [Value(data=-0.5522231840196069, grad=0), Value(data=0.5700331253604513, grad=0)], [Value(data=1.1425291398662902, grad=0), Value(data=-0.027946390980293462, grad=0)], [Value(data=-1.0559627906760132, grad=0), Value(data=0.11863833674456072, grad=0)], [Value(data=0.16985189051376626, grad=0), Value(data=0.3308779842359495, grad=0)], [Value(data=-0.069952284423216, grad=0), Value(data=1.0582962841937447, grad=0)], [Value(data=0.8049290441685284, grad=0), Value(data=0.5853695706393609, grad=0)], [Value(data=1.8670604551568166, grad=0), Value(data=0.49985452577335704, grad=0)], [Value(data=1.575641512808095, grad=0), Value(data=-0.24506795552830413, grad=0)], [Value(data=1.1265210647376644, grad=0), Value(data=-0.4879332255931098, grad=0)]]\n",
      "[Value(data=0.8180042388054896, grad=0), Value(data=-0.5621940837079877, grad=0), Value(data=1.5658874865552292, grad=0), Value(data=-0.525814254217112, grad=0), Value(data=-0.13213758450928761, grad=0), Value(data=-0.5804675084806024, grad=0), Value(data=0.3057147750188559, grad=0), Value(data=1.7409356602126733, grad=0), Value(data=2.2187577497556226, grad=0), Value(data=2.0234740583247177, grad=0)]\n",
      "[Value(data=0.8180042388054896, grad=0), Value(data=-0.5621940837079877, grad=0), Value(data=1.5658874865552292, grad=0), Value(data=-0.525814254217112, grad=0), Value(data=-0.13213758450928761, grad=0), Value(data=-0.5804675084806024, grad=0), Value(data=0.3057147750188559, grad=0), Value(data=1.7409356602126733, grad=0), Value(data=2.2187577497556226, grad=0), Value(data=2.0234740583247177, grad=0)]\n",
      "step 3 loss 0.6528280301757685, accuracy 70.0%\n",
      "MLP of [Layer of [ReLUNeuron(3), ReLUNeuron(3), ReLUNeuron(3), ReLUNeuron(3)], Layer of [ReLUNeuron(4), ReLUNeuron(4), ReLUNeuron(4), ReLUNeuron(4)], Layer of [LinearNeuron(4)]]\n",
      "[[Value(data=0.23716814800105823, grad=0), Value(data=-0.1733850803423769, grad=0)], [Value(data=-0.5522231840196069, grad=0), Value(data=0.5700331253604513, grad=0)], [Value(data=1.1425291398662902, grad=0), Value(data=-0.027946390980293462, grad=0)], [Value(data=-1.0559627906760132, grad=0), Value(data=0.11863833674456072, grad=0)], [Value(data=0.16985189051376626, grad=0), Value(data=0.3308779842359495, grad=0)], [Value(data=-0.069952284423216, grad=0), Value(data=1.0582962841937447, grad=0)], [Value(data=0.8049290441685284, grad=0), Value(data=0.5853695706393609, grad=0)], [Value(data=1.8670604551568166, grad=0), Value(data=0.49985452577335704, grad=0)], [Value(data=1.575641512808095, grad=0), Value(data=-0.24506795552830413, grad=0)], [Value(data=1.1265210647376644, grad=0), Value(data=-0.4879332255931098, grad=0)]]\n",
      "[Value(data=0.27723765616111296, grad=0), Value(data=-1.1357362196839245, grad=0), Value(data=0.6616182038387046, grad=0), Value(data=-1.0488129546025198, grad=0), Value(data=-0.855254073089005, grad=0), Value(data=-1.216867094435683, grad=0), Value(data=-0.7898970310958792, grad=0), Value(data=0.4483355701177385, grad=0), Value(data=1.1051810830883617, grad=0), Value(data=1.0843919737890046, grad=0)]\n",
      "[Value(data=0.27723765616111296, grad=0), Value(data=-1.1357362196839245, grad=0), Value(data=0.6616182038387046, grad=0), Value(data=-1.0488129546025198, grad=0), Value(data=-0.855254073089005, grad=0), Value(data=-1.216867094435683, grad=0), Value(data=-0.7898970310958792, grad=0), Value(data=0.4483355701177385, grad=0), Value(data=1.1051810830883617, grad=0), Value(data=1.0843919737890046, grad=0)]\n",
      "step 4 loss 0.5012518512699118, accuracy 80.0%\n",
      "MLP of [Layer of [ReLUNeuron(3), ReLUNeuron(3), ReLUNeuron(3), ReLUNeuron(3)], Layer of [ReLUNeuron(4), ReLUNeuron(4), ReLUNeuron(4), ReLUNeuron(4)], Layer of [LinearNeuron(4)]]\n",
      "[[Value(data=0.23716814800105823, grad=0), Value(data=-0.1733850803423769, grad=0)], [Value(data=-0.5522231840196069, grad=0), Value(data=0.5700331253604513, grad=0)], [Value(data=1.1425291398662902, grad=0), Value(data=-0.027946390980293462, grad=0)], [Value(data=-1.0559627906760132, grad=0), Value(data=0.11863833674456072, grad=0)], [Value(data=0.16985189051376626, grad=0), Value(data=0.3308779842359495, grad=0)], [Value(data=-0.069952284423216, grad=0), Value(data=1.0582962841937447, grad=0)], [Value(data=0.8049290441685284, grad=0), Value(data=0.5853695706393609, grad=0)], [Value(data=1.8670604551568166, grad=0), Value(data=0.49985452577335704, grad=0)], [Value(data=1.575641512808095, grad=0), Value(data=-0.24506795552830413, grad=0)], [Value(data=1.1265210647376644, grad=0), Value(data=-0.4879332255931098, grad=0)]]\n",
      "[Value(data=0.7242560114880492, grad=0), Value(data=-1.0011293177263247, grad=0), Value(data=1.1328066713222702, grad=0), Value(data=-0.898154194999228, grad=0), Value(data=-0.23742400970852556, grad=0), Value(data=-1.0636928116528401, grad=0), Value(data=-0.0939074098133954, grad=0), Value(data=1.03447512166074, grad=0), Value(data=1.624615056134728, grad=0), Value(data=1.59841970444935, grad=0)]\n",
      "[Value(data=0.7242560114880492, grad=0), Value(data=-1.0011293177263247, grad=0), Value(data=1.1328066713222702, grad=0), Value(data=-0.898154194999228, grad=0), Value(data=-0.23742400970852556, grad=0), Value(data=-1.0636928116528401, grad=0), Value(data=-0.0939074098133954, grad=0), Value(data=1.03447512166074, grad=0), Value(data=1.624615056134728, grad=0), Value(data=1.59841970444935, grad=0)]\n",
      "step 5 loss 0.46653002676284644, accuracy 80.0%\n",
      "MLP of [Layer of [ReLUNeuron(3), ReLUNeuron(3), ReLUNeuron(3), ReLUNeuron(3)], Layer of [ReLUNeuron(4), ReLUNeuron(4), ReLUNeuron(4), ReLUNeuron(4)], Layer of [LinearNeuron(4)]]\n",
      "[[Value(data=0.23716814800105823, grad=0), Value(data=-0.1733850803423769, grad=0)], [Value(data=-0.5522231840196069, grad=0), Value(data=0.5700331253604513, grad=0)], [Value(data=1.1425291398662902, grad=0), Value(data=-0.027946390980293462, grad=0)], [Value(data=-1.0559627906760132, grad=0), Value(data=0.11863833674456072, grad=0)], [Value(data=0.16985189051376626, grad=0), Value(data=0.3308779842359495, grad=0)], [Value(data=-0.069952284423216, grad=0), Value(data=1.0582962841937447, grad=0)], [Value(data=0.8049290441685284, grad=0), Value(data=0.5853695706393609, grad=0)], [Value(data=1.8670604551568166, grad=0), Value(data=0.49985452577335704, grad=0)], [Value(data=1.575641512808095, grad=0), Value(data=-0.24506795552830413, grad=0)], [Value(data=1.1265210647376644, grad=0), Value(data=-0.4879332255931098, grad=0)]]\n",
      "[Value(data=0.454926375950231, grad=0), Value(data=-1.2218371579230773, grad=0), Value(data=0.6365306493655774, grad=0), Value(data=-1.0474243389667162, grad=0), Value(data=-0.6946453478359959, grad=0), Value(data=-1.3160793479459756, grad=0), Value(data=-0.8115230545494657, grad=0), Value(data=0.3092819371183546, grad=0), Value(data=1.022019202024141, grad=0), Value(data=1.1097433863138368, grad=0)]\n",
      "[Value(data=0.454926375950231, grad=0), Value(data=-1.2218371579230773, grad=0), Value(data=0.6365306493655774, grad=0), Value(data=-1.0474243389667162, grad=0), Value(data=-0.6946453478359959, grad=0), Value(data=-1.3160793479459756, grad=0), Value(data=-0.8115230545494657, grad=0), Value(data=0.3092819371183546, grad=0), Value(data=1.022019202024141, grad=0), Value(data=1.1097433863138368, grad=0)]\n",
      "step 6 loss 0.47668569686057627, accuracy 80.0%\n",
      "MLP of [Layer of [ReLUNeuron(3), ReLUNeuron(3), ReLUNeuron(3), ReLUNeuron(3)], Layer of [ReLUNeuron(4), ReLUNeuron(4), ReLUNeuron(4), ReLUNeuron(4)], Layer of [LinearNeuron(4)]]\n",
      "[[Value(data=0.23716814800105823, grad=0), Value(data=-0.1733850803423769, grad=0)], [Value(data=-0.5522231840196069, grad=0), Value(data=0.5700331253604513, grad=0)], [Value(data=1.1425291398662902, grad=0), Value(data=-0.027946390980293462, grad=0)], [Value(data=-1.0559627906760132, grad=0), Value(data=0.11863833674456072, grad=0)], [Value(data=0.16985189051376626, grad=0), Value(data=0.3308779842359495, grad=0)], [Value(data=-0.069952284423216, grad=0), Value(data=1.0582962841937447, grad=0)], [Value(data=0.8049290441685284, grad=0), Value(data=0.5853695706393609, grad=0)], [Value(data=1.8670604551568166, grad=0), Value(data=0.49985452577335704, grad=0)], [Value(data=1.575641512808095, grad=0), Value(data=-0.24506795552830413, grad=0)], [Value(data=1.1265210647376644, grad=0), Value(data=-0.4879332255931098, grad=0)]]\n",
      "[Value(data=1.1806045924186046, grad=0), Value(data=-1.0516003390835247, grad=0), Value(data=1.6356295901812354, grad=0), Value(data=-0.6505937783323396, grad=0), Value(data=0.2587675924449191, grad=0), Value(data=-1.177068521042069, grad=0), Value(data=0.3497954576810006, grad=0), Value(data=1.4389315106796308, grad=0), Value(data=2.1526833563781347, grad=0), Value(data=2.1052275283481694, grad=0)]\n",
      "[Value(data=1.1806045924186046, grad=0), Value(data=-1.0516003390835247, grad=0), Value(data=1.6356295901812354, grad=0), Value(data=-0.6505937783323396, grad=0), Value(data=0.2587675924449191, grad=0), Value(data=-1.177068521042069, grad=0), Value(data=0.3497954576810006, grad=0), Value(data=1.4389315106796308, grad=0), Value(data=2.1526833563781347, grad=0), Value(data=2.1052275283481694, grad=0)]\n",
      "step 7 loss 0.5088043782481894, accuracy 80.0%\n",
      "MLP of [Layer of [ReLUNeuron(3), ReLUNeuron(3), ReLUNeuron(3), ReLUNeuron(3)], Layer of [ReLUNeuron(4), ReLUNeuron(4), ReLUNeuron(4), ReLUNeuron(4)], Layer of [LinearNeuron(4)]]\n",
      "[[Value(data=0.23716814800105823, grad=0), Value(data=-0.1733850803423769, grad=0)], [Value(data=-0.5522231840196069, grad=0), Value(data=0.5700331253604513, grad=0)], [Value(data=1.1425291398662902, grad=0), Value(data=-0.027946390980293462, grad=0)], [Value(data=-1.0559627906760132, grad=0), Value(data=0.11863833674456072, grad=0)], [Value(data=0.16985189051376626, grad=0), Value(data=0.3308779842359495, grad=0)], [Value(data=-0.069952284423216, grad=0), Value(data=1.0582962841937447, grad=0)], [Value(data=0.8049290441685284, grad=0), Value(data=0.5853695706393609, grad=0)], [Value(data=1.8670604551568166, grad=0), Value(data=0.49985452577335704, grad=0)], [Value(data=1.575641512808095, grad=0), Value(data=-0.24506795552830413, grad=0)], [Value(data=1.1265210647376644, grad=0), Value(data=-0.4879332255931098, grad=0)]]\n",
      "[Value(data=0.07158212508878076, grad=0), Value(data=-1.4620064159967676, grad=0), Value(data=0.2975386632253437, grad=0), Value(data=-1.3172105764205422, grad=0), Value(data=-1.0684402692390838, grad=0), Value(data=-1.6087690726523463, grad=0), Value(data=-1.0860445699375618, grad=0), Value(data=0.005905120045636009, grad=0), Value(data=0.61302875838136, grad=0), Value(data=0.6370810912268723, grad=0)]\n",
      "[Value(data=0.07158212508878076, grad=0), Value(data=-1.4620064159967676, grad=0), Value(data=0.2975386632253437, grad=0), Value(data=-1.3172105764205422, grad=0), Value(data=-1.0684402692390838, grad=0), Value(data=-1.6087690726523463, grad=0), Value(data=-1.0860445699375618, grad=0), Value(data=0.005905120045636009, grad=0), Value(data=0.61302875838136, grad=0), Value(data=0.6370810912268723, grad=0)]\n",
      "step 8 loss 0.6049732879194856, accuracy 80.0%\n",
      "MLP of [Layer of [ReLUNeuron(3), ReLUNeuron(3), ReLUNeuron(3), ReLUNeuron(3)], Layer of [ReLUNeuron(4), ReLUNeuron(4), ReLUNeuron(4), ReLUNeuron(4)], Layer of [LinearNeuron(4)]]\n",
      "[[Value(data=0.23716814800105823, grad=0), Value(data=-0.1733850803423769, grad=0)], [Value(data=-0.5522231840196069, grad=0), Value(data=0.5700331253604513, grad=0)], [Value(data=1.1425291398662902, grad=0), Value(data=-0.027946390980293462, grad=0)], [Value(data=-1.0559627906760132, grad=0), Value(data=0.11863833674456072, grad=0)], [Value(data=0.16985189051376626, grad=0), Value(data=0.3308779842359495, grad=0)], [Value(data=-0.069952284423216, grad=0), Value(data=1.0582962841937447, grad=0)], [Value(data=0.8049290441685284, grad=0), Value(data=0.5853695706393609, grad=0)], [Value(data=1.8670604551568166, grad=0), Value(data=0.49985452577335704, grad=0)], [Value(data=1.575641512808095, grad=0), Value(data=-0.24506795552830413, grad=0)], [Value(data=1.1265210647376644, grad=0), Value(data=-0.4879332255931098, grad=0)]]\n",
      "[Value(data=2.0372092685799625, grad=0), Value(data=-0.8217486500311544, grad=0), Value(data=2.882105826562264, grad=0), Value(data=-0.7723945865695161, grad=0), Value(data=1.022469372484465, grad=0), Value(data=-0.8404292590500896, grad=0), Value(data=1.44648332942647, grad=0), Value(data=2.9805610869321675, grad=0), Value(data=3.6888629321936817, grad=0), Value(data=3.5094526685706784, grad=0)]\n",
      "[Value(data=2.0372092685799625, grad=0), Value(data=-0.8217486500311544, grad=0), Value(data=2.882105826562264, grad=0), Value(data=-0.7723945865695161, grad=0), Value(data=1.022469372484465, grad=0), Value(data=-0.8404292590500896, grad=0), Value(data=1.44648332942647, grad=0), Value(data=2.9805610869321675, grad=0), Value(data=3.6888629321936817, grad=0), Value(data=3.5094526685706784, grad=0)]\n",
      "step 9 loss 0.6907075935214477, accuracy 80.0%\n"
     ]
    }
   ],
   "source": [
    "# optimization\n",
    "for k in range(10):\n",
    "    \n",
    "    # forward\n",
    "    total_loss, acc = loss()\n",
    "    \n",
    "    #draw_dot(total_loss)\n",
    "\n",
    "    # backward\n",
    "    model.zero_grad()\n",
    "    total_loss.backward()\n",
    "    \n",
    "    # update (sgd)\n",
    "    learning_rate = 1.0 - 0.9*k/100\n",
    "    for p in model.parameters():\n",
    "        p.data -= learning_rate * p.grad\n",
    "    \n",
    "    if k % 1 == 0:\n",
    "        print(f\"step {k} loss {total_loss.data}, accuracy {acc*100}%\")\n"
   ]
  },
  {
   "cell_type": "code",
   "execution_count": 8,
   "metadata": {},
   "outputs": [
    {
     "data": {
      "text/plain": [
       "(-1.48793322559311, 2.01206677440689)"
      ]
     },
     "execution_count": 8,
     "metadata": {},
     "output_type": "execute_result"
    },
    {
     "data": {
      "image/png": "[encoded data removed]",
      "text/plain": [
       "<Figure size 640x480 with 1 Axes>"
      ]
     },
     "metadata": {},
     "output_type": "display_data"
    }
   ],
   "source": [
    "# visualize decision boundary\n",
    "\n",
    "h = 0.25\n",
    "x_min, x_max = X[:, 0].min() - 1, X[:, 0].max() + 1\n",
    "y_min, y_max = X[:, 1].min() - 1, X[:, 1].max() + 1\n",
    "xx, yy = np.meshgrid(np.arange(x_min, x_max, h),\n",
    "                     np.arange(y_min, y_max, h))\n",
    "Xmesh = np.c_[xx.ravel(), yy.ravel()]\n",
    "inputs = [list(map(Value, xrow)) for xrow in Xmesh]\n",
    "scores = list(map(model, inputs))\n",
    "Z = np.array([s.data > 0 for s in scores])\n",
    "Z = Z.reshape(xx.shape)\n",
    "\n",
    "fig = plt.figure()\n",
    "plt.contourf(xx, yy, Z, cmap=plt.cm.Spectral, alpha=0.8)\n",
    "plt.scatter(X[:, 0], X[:, 1], c=y, s=40, cmap=plt.cm.Spectral)\n",
    "plt.xlim(xx.min(), xx.max())\n",
    "plt.ylim(yy.min(), yy.max())"
   ]
  }
 ],
 "metadata": {
  "kernelspec": {
   "display_name": "Python 3",
   "language": "python",
   "name": "python3"
  },
  "language_info": {
   "codemirror_mode": {
    "name": "ipython",
    "version": 3
   },
   "file_extension": ".py",
   "mimetype": "text/x-python",
   "name": "python",
   "nbconvert_exporter": "python",
   "pygments_lexer": "ipython3",
   "version": "3.10.12"
  }
 },
 "nbformat": 4,
 "nbformat_minor": 2
}
