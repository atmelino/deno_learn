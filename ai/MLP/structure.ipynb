{
 "cells": [
  {
   "cell_type": "markdown",
   "metadata": {},
   "source": [
    "###  print out structures"
   ]
  },
  {
   "cell_type": "code",
   "execution_count": 23,
   "metadata": {},
   "outputs": [],
   "source": [
    "import random\n",
    "import numpy as np\n",
    "import matplotlib.pyplot as plt\n",
    "%matplotlib inline\n",
    "from mycrograd.engine import Value\n",
    "from mycrograd.nn import Neuron, Layer, MLP\n",
    "np.random.seed(1337)\n",
    "random.seed(1337)"
   ]
  },
  {
   "cell_type": "markdown",
   "metadata": {},
   "source": [
    "#### Neuron"
   ]
  },
  {
   "cell_type": "code",
   "execution_count": 28,
   "metadata": {},
   "outputs": [
    {
     "name": "stdout",
     "output_type": "stream",
     "text": [
      "number of inputs:  3\n",
      "Neuron:  ReLUNeuron(3)\n",
      "weights:  [Value(data=0.15459549089529045, grad=0), Value(data=-0.9122391928398941, grad=0), Value(data=-0.18505999501786086, grad=0)]\n",
      "b:  Value(data=0, grad=0)\n",
      "number of parameters  4\n",
      "inputs  [5 9 7]\n",
      "activation:  Value(data=0, grad=0)\n"
     ]
    }
   ],
   "source": [
    "nin=3  #number of inputs\n",
    "myNeuron=Neuron(nin)\n",
    "print(\"number of inputs: \",nin)\n",
    "print(\"Neuron: \",myNeuron)\n",
    "print(\"weights: \",myNeuron.w)\n",
    "print(\"b: \",myNeuron.b)\n",
    "print(\"number of parameters \", len(myNeuron.parameters()))\n",
    "# xi=[1,2,3,4]\n",
    "xi= np.random.randint(1,10, size=(nin))   # inputs\n",
    "print(\"inputs \", xi)\n",
    "print(\"activation: \",myNeuron(xi))\n",
    "\n"
   ]
  },
  {
   "cell_type": "markdown",
   "metadata": {},
   "source": [
    "#### Layer"
   ]
  },
  {
   "cell_type": "code",
   "execution_count": 29,
   "metadata": {},
   "outputs": [
    {
     "name": "stdout",
     "output_type": "stream",
     "text": [
      "Layer:  Layer of [ReLUNeuron(3)]\n"
     ]
    }
   ],
   "source": [
    "nin=3  #number of inputs\n",
    "myLayer=Layer(nin,1)\n",
    "print(\"Layer: \",myLayer)\n"
   ]
  },
  {
   "cell_type": "markdown",
   "metadata": {},
   "source": [
    "#### Multi Layer Perceptron"
   ]
  },
  {
   "cell_type": "code",
   "execution_count": 25,
   "metadata": {},
   "outputs": [
    {
     "name": "stdout",
     "output_type": "stream",
     "text": [
      "MLP of [Layer of [ReLUNeuron(3), ReLUNeuron(3), ReLUNeuron(3), ReLUNeuron(3)], Layer of [ReLUNeuron(4), ReLUNeuron(4), ReLUNeuron(4), ReLUNeuron(4)], Layer of [LinearNeuron(4)]]\n",
      "number of parameters 41\n",
      "inputs  [8 3 3]\n",
      "activation:  Value(data=-1.925433239606423, grad=0)\n"
     ]
    }
   ],
   "source": [
    "# initialize a model \n",
    "nin=3  #number of inputs\n",
    "model = MLP(3, [4, 4, 1]) # 2-layer neural network\n",
    "print(model)\n",
    "print(\"number of parameters\", len(model.parameters()))\n",
    "xi= np.random.randint(1,10, size=(nin))   # inputs\n",
    "print(\"inputs \", xi)\n",
    "print(\"activation: \",model(xi))\n"
   ]
  }
 ],
 "metadata": {
  "kernelspec": {
   "display_name": "Python 3",
   "language": "python",
   "name": "python3"
  },
  "language_info": {
   "codemirror_mode": {
    "name": "ipython",
    "version": 3
   },
   "file_extension": ".py",
   "mimetype": "text/x-python",
   "name": "python",
   "nbconvert_exporter": "python",
   "pygments_lexer": "ipython3",
   "version": "3.10.12"
  }
 },
 "nbformat": 4,
 "nbformat_minor": 2
}
