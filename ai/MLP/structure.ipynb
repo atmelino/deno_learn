{
 "cells": [
  {
   "cell_type": "markdown",
   "metadata": {},
   "source": [
    "###  print out structures"
   ]
  },
  {
   "cell_type": "code",
   "execution_count": null,
   "metadata": {},
   "outputs": [],
   "source": [
    "import random\n",
    "import numpy as np\n",
    "import matplotlib.pyplot as plt\n",
    "%matplotlib inline\n",
    "from mycrograd.engine import Value\n",
    "from mycrograd.nn import Neuron, Layer, MLP\n",
    "from drawviz import draw_dot\n",
    "np.random.seed(1337)\n",
    "random.seed(1337)"
   ]
  },
  {
   "cell_type": "code",
   "execution_count": null,
   "metadata": {},
   "outputs": [],
   "source": [
    "self.b = Value(0, label=\"b\")\n"
   ]
  },
  {
   "cell_type": "code",
   "execution_count": null,
   "metadata": {},
   "outputs": [],
   "source": [
    "a=Value(4.5,label='a')\n",
    "print(a)\n",
    "draw_dot(a)"
   ]
  },
  {
   "cell_type": "markdown",
   "metadata": {},
   "source": [
    "#### Neuron"
   ]
  },
  {
   "cell_type": "code",
   "execution_count": 51,
   "metadata": {},
   "outputs": [
    {
     "name": "stdout",
     "output_type": "stream",
     "text": [
      "number of inputs:  3\n",
      "Neuron:  ReLUNeuron(3)\n",
      "weights:  [Value(data=-0.23259038277158273, grad=0), Value(data=0.5792256498313748, grad=0), Value(data=0.8434530197925192, grad=0)]\n",
      "b:  Value(data=0, grad=0)\n"
     ]
    },
    {
     "ename": "AttributeError",
     "evalue": "'Value' object has no attribute 'label'",
     "output_type": "error",
     "traceback": [
      "\u001b[0;31m---------------------------------------------------------------------------\u001b[0m",
      "\u001b[0;31mAttributeError\u001b[0m                            Traceback (most recent call last)",
      "\u001b[1;32m/media/data/github/learn/ai/MLP/structure.ipynb Cell 6\u001b[0m line \u001b[0;36m7\n\u001b[1;32m      <a href='vscode-notebook-cell:/media/data/github/learn/ai/MLP/structure.ipynb#W3sZmlsZQ%3D%3D?line=4'>5</a>\u001b[0m \u001b[39mprint\u001b[39m(\u001b[39m\"\u001b[39m\u001b[39mweights: \u001b[39m\u001b[39m\"\u001b[39m,myNeuron\u001b[39m.\u001b[39mw)\n\u001b[1;32m      <a href='vscode-notebook-cell:/media/data/github/learn/ai/MLP/structure.ipynb#W3sZmlsZQ%3D%3D?line=5'>6</a>\u001b[0m \u001b[39mprint\u001b[39m(\u001b[39m\"\u001b[39m\u001b[39mb: \u001b[39m\u001b[39m\"\u001b[39m,myNeuron\u001b[39m.\u001b[39mb)\n\u001b[0;32m----> <a href='vscode-notebook-cell:/media/data/github/learn/ai/MLP/structure.ipynb#W3sZmlsZQ%3D%3D?line=6'>7</a>\u001b[0m \u001b[39mprint\u001b[39m(\u001b[39m\"\u001b[39m\u001b[39mb label: \u001b[39m\u001b[39m\"\u001b[39m,myNeuron\u001b[39m.\u001b[39;49mb\u001b[39m.\u001b[39;49mlabel)\n\u001b[1;32m      <a href='vscode-notebook-cell:/media/data/github/learn/ai/MLP/structure.ipynb#W3sZmlsZQ%3D%3D?line=8'>9</a>\u001b[0m \u001b[39mprint\u001b[39m(\u001b[39m\"\u001b[39m\u001b[39mnumber of parameters \u001b[39m\u001b[39m\"\u001b[39m, \u001b[39mlen\u001b[39m(myNeuron\u001b[39m.\u001b[39mparameters()))\n\u001b[1;32m     <a href='vscode-notebook-cell:/media/data/github/learn/ai/MLP/structure.ipynb#W3sZmlsZQ%3D%3D?line=9'>10</a>\u001b[0m \u001b[39mprint\u001b[39m(myNeuron\u001b[39m.\u001b[39mparameters())\n",
      "\u001b[0;31mAttributeError\u001b[0m: 'Value' object has no attribute 'label'"
     ]
    }
   ],
   "source": [
    "nin=3  #number of inputs\n",
    "myNeuron=Neuron(nin)\n",
    "print(\"number of inputs: \",nin)\n",
    "print(\"Neuron: \",myNeuron)\n",
    "print(\"weights: \",myNeuron.w)\n",
    "print(\"b: \",myNeuron.b)\n",
    "print(\"b label: \",myNeuron.b.label)\n",
    "\n",
    "print(\"number of parameters \", len(myNeuron.parameters()))\n",
    "print(myNeuron.parameters())\n",
    "# xi=[1,2,3,4]\n",
    "xi= np.random.randint(1,10, size=(nin))   # inputs\n",
    "print(\"inputs \", xi)\n",
    "print(\"activation: \",myNeuron(xi))\n",
    "loss=myNeuron(xi)**2\n",
    "loss.backward()\n",
    "#draw_dot(myNeuron)\n",
    "\n"
   ]
  },
  {
   "cell_type": "markdown",
   "metadata": {},
   "source": [
    "#### Layer"
   ]
  },
  {
   "cell_type": "code",
   "execution_count": null,
   "metadata": {},
   "outputs": [],
   "source": [
    "nin=3  #number of inputs\n",
    "myLayer=Layer(nin,1)\n",
    "print(\"Layer: \",myLayer)\n",
    "print(\"Neurons: \",myLayer.neurons)\n",
    "\n"
   ]
  },
  {
   "cell_type": "markdown",
   "metadata": {},
   "source": [
    "#### Multi Layer Perceptron"
   ]
  },
  {
   "cell_type": "code",
   "execution_count": null,
   "metadata": {},
   "outputs": [],
   "source": [
    "# initialize a model \n",
    "nin=3  #number of inputs\n",
    "model = MLP(3, [4, 4, 1]) # 2-layer neural network\n",
    "print(model)\n",
    "print(\"number of parameters\", len(model.parameters()))\n",
    "xi= np.random.randint(1,10, size=(nin))   # inputs\n",
    "print(\"inputs \", xi)\n",
    "print(\"activation: \",model(xi))\n"
   ]
  },
  {
   "cell_type": "markdown",
   "metadata": {},
   "source": [
    "## Gradient"
   ]
  },
  {
   "cell_type": "code",
   "execution_count": null,
   "metadata": {},
   "outputs": [],
   "source": [
    "myNeuron1 = Neuron(1,nonlin=False)\n",
    "myNeuron2 = Neuron(1,nonlin=False)\n",
    "print(myNeuron1.parameters())\n",
    "print(\"weights: \",myNeuron1.w)\n",
    "\n",
    "print(myNeuron2.parameters())\n",
    "\n",
    "input1 = [1.0]\n",
    "input2 = [1.0]\n",
    "loss = myNeuron1(input1) + myNeuron2(input2)\n",
    "print(\"loss=\",loss)\n",
    "\n",
    "draw_dot(loss)\n",
    "loss.backward()\n",
    "draw_dot(loss)\n"
   ]
  }
 ],
 "metadata": {
  "kernelspec": {
   "display_name": "Python 3",
   "language": "python",
   "name": "python3"
  },
  "language_info": {
   "codemirror_mode": {
    "name": "ipython",
    "version": 3
   },
   "file_extension": ".py",
   "mimetype": "text/x-python",
   "name": "python",
   "nbconvert_exporter": "python",
   "pygments_lexer": "ipython3",
   "version": "3.10.12"
  }
 },
 "nbformat": 4,
 "nbformat_minor": 2
}
