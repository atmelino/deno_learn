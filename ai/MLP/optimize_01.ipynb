{
 "cells": [
  {
   "cell_type": "markdown",
   "metadata": {},
   "source": [
    "##  Optimization manual steps"
   ]
  },
  {
   "cell_type": "code",
   "execution_count": 1,
   "metadata": {},
   "outputs": [],
   "source": [
    "import random\n",
    "import numpy as np\n",
    "import pprint\n",
    "\n",
    "from mycrograd_debug.engine_debug import Value\n",
    "from mycrograd_debug.nn_debug import Neuron, Layer, MLP\n",
    "from mycrograd_debug.drawviz_debug import draw_dot\n",
    "\n",
    "np.random.seed(1337)\n",
    "random.seed(1337)"
   ]
  },
  {
   "cell_type": "markdown",
   "metadata": {},
   "source": [
    "#### Multi Layer Perceptron 1-2-1"
   ]
  },
  {
   "cell_type": "code",
   "execution_count": 2,
   "metadata": {},
   "outputs": [],
   "source": [
    "# loss function single MLP\n",
    "def loss_single(target, output):\n",
    "    total_loss = output - target\n",
    "    total_loss.type=\"l\"\n",
    "    return total_loss"
   ]
  },
  {
   "cell_type": "code",
   "execution_count": 3,
   "metadata": {},
   "outputs": [
    {
     "name": "stdout",
     "output_type": "stream",
     "text": [
      "inputs=  1\n",
      "weights= 0.5  ,  0.5\n",
      "weights= 0.3  ,  0.4\n",
      "[   Value(name=val1,neuronnumber=n1,weightnumber=,type=w1,data=0.3, grad=0),\n",
      "    Value(name=val2,neuronnumber=n1,weightnumber=,type=b,data=0, grad=0),\n",
      "    Value(name=val3,neuronnumber=n2,weightnumber=,type=w1,data=0.4, grad=0),\n",
      "    Value(name=val4,neuronnumber=n2,weightnumber=,type=b,data=0, grad=0),\n",
      "    Value(name=val5,neuronnumber=n1,weightnumber=,type=w1,data=0.5, grad=0),\n",
      "    Value(name=val6,neuronnumber=n1,weightnumber=,type=w2,data=0.6, grad=0),\n",
      "    Value(name=val7,neuronnumber=n1,weightnumber=,type=b,data=0, grad=0)]\n"
     ]
    }
   ],
   "source": [
    "# initialize a model\n",
    "nin = 1  # number of inputs\n",
    "nout = 1  # number of outputs\n",
    "Value.value_counter = 0\n",
    "pp = pprint.PrettyPrinter(indent=4)\n",
    "\n",
    "model = MLP(\n",
    "    nin, [2, nout], randomweights=False, lastReLU=False\n",
    ")  # 2-layer neural network\n",
    "xinumbers = list(range(1, nin + 1))\n",
    "xinput = [Value(x, type=\"i\") for x in xinumbers]\n",
    "print(\"inputs= \", xinput[0].data)\n",
    "# print(model.layers[0].neurons[0].w)\n",
    "# print(model.layers[0].neurons[1].w)\n",
    "print(\"weights=\",model.layers[0].neurons[0].w[0].data,\" , \",model.layers[0].neurons[1].w[0].data)\n",
    "\n",
    "model.layers[0].neurons[0].w[0].data=0.3\n",
    "model.layers[0].neurons[1].w[0].data=0.4\n",
    "model.layers[1].neurons[0].w[0].data=0.5\n",
    "model.layers[1].neurons[0].w[1].data=0.6\n",
    "print(\"weights=\",model.layers[0].neurons[0].w[0].data,\" , \",model.layers[0].neurons[1].w[0].data)\n",
    "pp.pprint(model.parameters())\n",
    "\n",
    "xtarget = Value(1.2, type=\"t\")  # desired targets"
   ]
  },
  {
   "cell_type": "code",
   "execution_count": 4,
   "metadata": {},
   "outputs": [],
   "source": [
    "# Optimization Step\n",
    "def opt_step():\n",
    "    #### forward pass0\n",
    "    activation = model(xinput)\n",
    "    loss = loss_single(activation, xtarget)\n",
    "    print(\"loss= \", loss.data)\n",
    "    activation = model(xinput)\n",
    "    loss = loss_single(activation, xtarget)\n",
    "    print(\"loss= \", loss.data)\n",
    "\n",
    "    #### backward pass\n",
    "    for p in model.parameters():\n",
    "        p.grad = 0.0\n",
    "    loss.backward()\n",
    "\n",
    "    draw_dot(loss, debug_print_01=False)\n",
    "\n",
    "    #### update\n",
    "    for p in model.parameters():\n",
    "        p.data += -0.1 * p.grad\n",
    "    print(\"updated parameters\")\n",
    "    pp.pprint(model.parameters())"
   ]
  },
  {
   "cell_type": "code",
   "execution_count": 5,
   "metadata": {},
   "outputs": [
    {
     "name": "stdout",
     "output_type": "stream",
     "text": [
      "loss=  0.8099999999999999\n",
      "loss=  0.8099999999999999\n",
      "updated parameters\n",
      "[   Value(name=val1,neuronnumber=n1,weightnumber=,type=w1,data=0.35, grad=-0.5),\n",
      "    Value(name=val2,neuronnumber=n1,weightnumber=,type=b,data=0.05, grad=-0.5),\n",
      "    Value(name=val3,neuronnumber=n2,weightnumber=,type=w1,data=0.46, grad=-0.6),\n",
      "    Value(name=val4,neuronnumber=n2,weightnumber=,type=b,data=0.06, grad=-0.6),\n",
      "    Value(name=val5,neuronnumber=n1,weightnumber=,type=w1,data=0.53, grad=-0.3),\n",
      "    Value(name=val6,neuronnumber=n1,weightnumber=,type=w2,data=0.64, grad=-0.4),\n",
      "    Value(name=val7,neuronnumber=n1,weightnumber=,type=b,data=0.1, grad=-1.0)]\n"
     ]
    }
   ],
   "source": [
    "opt_step()"
   ]
  },
  {
   "cell_type": "code",
   "execution_count": 6,
   "metadata": {},
   "outputs": [
    {
     "name": "stdout",
     "output_type": "stream",
     "text": [
      "loss=  0.5551999999999999\n",
      "loss=  0.5551999999999999\n",
      "updated parameters\n",
      "[   Value(name=val1,neuronnumber=n1,weightnumber=,type=w1,data=0.40299999999999997, grad=-0.53),\n",
      "    Value(name=val2,neuronnumber=n1,weightnumber=,type=b,data=0.10300000000000001, grad=-0.53),\n",
      "    Value(name=val3,neuronnumber=n2,weightnumber=,type=w1,data=0.524, grad=-0.64),\n",
      "    Value(name=val4,neuronnumber=n2,weightnumber=,type=b,data=0.124, grad=-0.64),\n",
      "    Value(name=val5,neuronnumber=n1,weightnumber=,type=w1,data=0.5700000000000001, grad=-0.39999999999999997),\n",
      "    Value(name=val6,neuronnumber=n1,weightnumber=,type=w2,data=0.6920000000000001, grad=-0.52),\n",
      "    Value(name=val7,neuronnumber=n1,weightnumber=,type=b,data=0.2, grad=-1.0)]\n"
     ]
    }
   ],
   "source": [
    "opt_step()"
   ]
  },
  {
   "cell_type": "code",
   "execution_count": 7,
   "metadata": {},
   "outputs": [
    {
     "name": "stdout",
     "output_type": "stream",
     "text": [
      "loss=  0.26316399999999995\n",
      "loss=  0.26316399999999995\n",
      "updated parameters\n",
      "[   Value(name=val1,neuronnumber=n1,weightnumber=,type=w1,data=0.45999999999999996, grad=-0.5700000000000001),\n",
      "    Value(name=val2,neuronnumber=n1,weightnumber=,type=b,data=0.16000000000000003, grad=-0.5700000000000001),\n",
      "    Value(name=val3,neuronnumber=n2,weightnumber=,type=w1,data=0.5932000000000001, grad=-0.6920000000000001),\n",
      "    Value(name=val4,neuronnumber=n2,weightnumber=,type=b,data=0.1932, grad=-0.6920000000000001),\n",
      "    Value(name=val5,neuronnumber=n1,weightnumber=,type=w1,data=0.6206, grad=-0.506),\n",
      "    Value(name=val6,neuronnumber=n1,weightnumber=,type=w2,data=0.7568, grad=-0.648),\n",
      "    Value(name=val7,neuronnumber=n1,weightnumber=,type=b,data=0.30000000000000004, grad=-1.0)]\n"
     ]
    }
   ],
   "source": [
    "opt_step()"
   ]
  },
  {
   "cell_type": "code",
   "execution_count": 8,
   "metadata": {},
   "outputs": [
    {
     "name": "stdout",
     "output_type": "stream",
     "text": [
      "loss=  -0.07991952000000024\n",
      "loss=  -0.07991952000000024\n",
      "updated parameters\n",
      "[   Value(name=val1,neuronnumber=n1,weightnumber=,type=w1,data=0.52206, grad=-0.6206),\n",
      "    Value(name=val2,neuronnumber=n1,weightnumber=,type=b,data=0.22206000000000004, grad=-0.6206),\n",
      "    Value(name=val3,neuronnumber=n2,weightnumber=,type=w1,data=0.66888, grad=-0.7568),\n",
      "    Value(name=val4,neuronnumber=n2,weightnumber=,type=b,data=0.26888, grad=-0.7568),\n",
      "    Value(name=val5,neuronnumber=n1,weightnumber=,type=w1,data=0.6826000000000001, grad=-0.62),\n",
      "    Value(name=val6,neuronnumber=n1,weightnumber=,type=w2,data=0.8354400000000001, grad=-0.7864000000000001),\n",
      "    Value(name=val7,neuronnumber=n1,weightnumber=,type=b,data=0.4, grad=-1.0)]\n"
     ]
    }
   ],
   "source": [
    "opt_step()"
   ]
  },
  {
   "cell_type": "code",
   "execution_count": 9,
   "metadata": {},
   "outputs": [
    {
     "name": "stdout",
     "output_type": "stream",
     "text": [
      "loss=  -0.49137852640000035\n",
      "loss=  -0.49137852640000035\n",
      "updated parameters\n",
      "[   Value(name=val1,neuronnumber=n1,weightnumber=,type=w1,data=0.59032, grad=-0.6826000000000001),\n",
      "    Value(name=val2,neuronnumber=n1,weightnumber=,type=b,data=0.29032, grad=-0.6826000000000001),\n",
      "    Value(name=val3,neuronnumber=n2,weightnumber=,type=w1,data=0.752424, grad=-0.8354400000000001),\n",
      "    Value(name=val4,neuronnumber=n2,weightnumber=,type=b,data=0.352424, grad=-0.8354400000000001),\n",
      "    Value(name=val5,neuronnumber=n1,weightnumber=,type=w1,data=0.7570120000000001, grad=-0.74412),\n",
      "    Value(name=val6,neuronnumber=n1,weightnumber=,type=w2,data=0.929216, grad=-0.93776),\n",
      "    Value(name=val7,neuronnumber=n1,weightnumber=,type=b,data=0.5, grad=-1.0)]\n"
     ]
    }
   ],
   "source": [
    "opt_step()"
   ]
  },
  {
   "cell_type": "code",
   "execution_count": 10,
   "metadata": {},
   "outputs": [
    {
     "name": "stdout",
     "output_type": "stream",
     "text": [
      "loss=  -0.993297486848\n",
      "loss=  -0.993297486848\n",
      "updated parameters\n",
      "[   Value(name=val1,neuronnumber=n1,weightnumber=,type=w1,data=0.6660212, grad=-0.7570120000000001),\n",
      "    Value(name=val2,neuronnumber=n1,weightnumber=,type=b,data=0.36602120000000005, grad=-0.7570120000000001),\n",
      "    Value(name=val3,neuronnumber=n2,weightnumber=,type=w1,data=0.8453456, grad=-0.929216),\n",
      "    Value(name=val4,neuronnumber=n2,weightnumber=,type=b,data=0.4453456, grad=-0.929216),\n",
      "    Value(name=val5,neuronnumber=n1,weightnumber=,type=w1,data=0.8450760000000002, grad=-0.88064),\n",
      "    Value(name=val6,neuronnumber=n1,weightnumber=,type=w2,data=1.0397008, grad=-1.104848),\n",
      "    Value(name=val7,neuronnumber=n1,weightnumber=,type=b,data=0.6, grad=-1.0)]\n"
     ]
    }
   ],
   "source": [
    "opt_step()"
   ]
  },
  {
   "cell_type": "code",
   "execution_count": 11,
   "metadata": {},
   "outputs": [
    {
     "name": "stdout",
     "output_type": "stream",
     "text": [
      "loss=  -1.61408693641536\n",
      "loss=  -1.61408693641536\n",
      "updated parameters\n",
      "[   Value(name=val1,neuronnumber=n1,weightnumber=,type=w1,data=0.7505288, grad=-0.8450760000000002),\n",
      "    Value(name=val2,neuronnumber=n1,weightnumber=,type=b,data=0.45052880000000006, grad=-0.8450760000000002),\n",
      "    Value(name=val3,neuronnumber=n2,weightnumber=,type=w1,data=0.94931568, grad=-1.0397008),\n",
      "    Value(name=val4,neuronnumber=n2,weightnumber=,type=b,data=0.5493156800000001, grad=-1.0397008),\n",
      "    Value(name=val5,neuronnumber=n1,weightnumber=,type=w1,data=0.9482802400000001, grad=-1.0320424),\n",
      "    Value(name=val6,neuronnumber=n1,weightnumber=,type=w2,data=1.1687699200000001, grad=-1.2906912),\n",
      "    Value(name=val7,neuronnumber=n1,weightnumber=,type=b,data=0.7, grad=-1.0)]\n"
     ]
    }
   ],
   "source": [
    "opt_step()"
   ]
  },
  {
   "cell_type": "code",
   "execution_count": 12,
   "metadata": {},
   "outputs": [
    {
     "name": "stdout",
     "output_type": "stream",
     "text": [
      "loss=  -2.3904944439185156\n",
      "loss=  -2.3904944439185156\n",
      "updated parameters\n",
      "[   Value(name=val1,neuronnumber=n1,weightnumber=,type=w1,data=0.845356824, grad=-0.9482802400000001),\n",
      "    Value(name=val2,neuronnumber=n1,weightnumber=,type=b,data=0.5453568240000001, grad=-0.9482802400000001),\n",
      "    Value(name=val3,neuronnumber=n2,weightnumber=,type=w1,data=1.0661926720000001, grad=-1.1687699200000001),\n",
      "    Value(name=val4,neuronnumber=n2,weightnumber=,type=b,data=0.6661926720000001, grad=-1.1687699200000001),\n",
      "    Value(name=val5,neuronnumber=n1,weightnumber=,type=w1,data=1.068386, grad=-1.2010576),\n",
      "    Value(name=val6,neuronnumber=n1,weightnumber=,type=w2,data=1.3186330560000001, grad=-1.49863136),\n",
      "    Value(name=val7,neuronnumber=n1,weightnumber=,type=b,data=0.7999999999999999, grad=-1.0)]\n"
     ]
    }
   ],
   "source": [
    "opt_step()"
   ]
  },
  {
   "cell_type": "code",
   "execution_count": 13,
   "metadata": {},
   "outputs": [
    {
     "name": "stdout",
     "output_type": "stream",
     "text": [
      "loss=  -3.37019957186046\n",
      "loss=  -3.37019957186046\n",
      "updated parameters\n",
      "[   Value(name=val1,neuronnumber=n1,weightnumber=,type=w1,data=0.952195424, grad=-1.068386),\n",
      "    Value(name=val2,neuronnumber=n1,weightnumber=,type=b,data=0.6521954240000001, grad=-1.068386),\n",
      "    Value(name=val3,neuronnumber=n2,weightnumber=,type=w1,data=1.1980559776000002, grad=-1.3186330560000001),\n",
      "    Value(name=val4,neuronnumber=n2,weightnumber=,type=b,data=0.7980559776000001, grad=-1.3186330560000001),\n",
      "    Value(name=val5,neuronnumber=n1,weightnumber=,type=w1,data=1.2074573648, grad=-1.3907136480000002),\n",
      "    Value(name=val6,neuronnumber=n1,weightnumber=,type=w2,data=1.4918715904000002, grad=-1.7323853440000003),\n",
      "    Value(name=val7,neuronnumber=n1,weightnumber=,type=b,data=0.8999999999999999, grad=-1.0)]\n"
     ]
    }
   ],
   "source": [
    "opt_step()"
   ]
  },
  {
   "cell_type": "code",
   "execution_count": 14,
   "metadata": {},
   "outputs": [
    {
     "name": "stdout",
     "output_type": "stream",
     "text": [
      "loss=  -4.615176262655996\n",
      "loss=  -4.615176262655996\n",
      "updated parameters\n",
      "[   Value(name=val1,neuronnumber=n1,weightnumber=,type=w1,data=1.07294116048, grad=-1.2074573648),\n",
      "    Value(name=val2,neuronnumber=n1,weightnumber=,type=b,data=0.7729411604800001, grad=-1.2074573648),\n",
      "    Value(name=val3,neuronnumber=n2,weightnumber=,type=w1,data=1.3472431366400002, grad=-1.4918715904000002),\n",
      "    Value(name=val4,neuronnumber=n2,weightnumber=,type=b,data=0.9472431366400001, grad=-1.4918715904000002),\n",
      "    Value(name=val5,neuronnumber=n1,weightnumber=,type=w1,data=1.3678964496, grad=-1.604390848),\n",
      "    Value(name=val6,neuronnumber=n1,weightnumber=,type=w2,data=1.6914827859200003, grad=-1.9961119552000004),\n",
      "    Value(name=val7,neuronnumber=n1,weightnumber=,type=b,data=0.9999999999999999, grad=-1.0)]\n"
     ]
    }
   ],
   "source": [
    "opt_step()"
   ]
  },
  {
   "cell_type": "code",
   "execution_count": 15,
   "metadata": {},
   "outputs": [],
   "source": [
    "# pp.pprint(model.parameters())\n",
    "# activation = model(xinput)\n",
    "# loss = loss_single(activation, xtarget)\n",
    "# print(\"loss= \", loss.data)\n",
    "# draw_dot(loss)"
   ]
  }
 ],
 "metadata": {
  "kernelspec": {
   "display_name": "Python 3",
   "language": "python",
   "name": "python3"
  },
  "language_info": {
   "codemirror_mode": {
    "name": "ipython",
    "version": 3
   },
   "file_extension": ".py",
   "mimetype": "text/x-python",
   "name": "python",
   "nbconvert_exporter": "python",
   "pygments_lexer": "ipython3",
   "version": "3.10.12"
  }
 },
 "nbformat": 4,
 "nbformat_minor": 2
}
