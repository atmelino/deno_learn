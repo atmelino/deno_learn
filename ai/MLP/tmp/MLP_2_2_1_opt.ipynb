{
 "cells": [
  {
   "cell_type": "markdown",
   "metadata": {},
   "source": [
    "<h4>Multi Layer Perceptron</h4?>\n",
    "<ul>\n",
    "<li>2 Inputs</li>\n",
    "<li>1 Layer of 2 neurons</li>\n",
    "<li>1 output</li>\n",
    "</ul> "
   ]
  },
  {
   "cell_type": "code",
   "execution_count": 1,
   "metadata": {},
   "outputs": [],
   "source": [
    "import random\n",
    "import numpy as np\n",
    "import matplotlib.pyplot as plt\n",
    "%matplotlib inline\n",
    "from mycrograd.engine import Value\n",
    "from mycrograd.nn import Neuron, Layer, MLP"
   ]
  },
  {
   "cell_type": "code",
   "execution_count": 2,
   "metadata": {},
   "outputs": [],
   "source": [
    "np.random.seed(1337)\n",
    "random.seed(1337)"
   ]
  },
  {
   "cell_type": "code",
   "execution_count": 8,
   "metadata": {},
   "outputs": [
    {
     "name": "stdout",
     "output_type": "stream",
     "text": [
      "MLP of [Layer of [ReLUNeuron(2), ReLUNeuron(2)], Layer of [LinearNeuron(2)]]\n",
      "number of parameters 9\n"
     ]
    }
   ],
   "source": [
    "# initialize a model \n",
    "model = MLP(2, [2, 1]) # 1-layer neural network\n",
    "print(model)\n",
    "print(\"number of parameters\", len(model.parameters()))"
   ]
  },
  {
   "cell_type": "code",
   "execution_count": 9,
   "metadata": {},
   "outputs": [
    {
     "ename": "NameError",
     "evalue": "name 'X' is not defined",
     "output_type": "error",
     "traceback": [
      "\u001b[0;31m---------------------------------------------------------------------------\u001b[0m",
      "\u001b[0;31mNameError\u001b[0m                                 Traceback (most recent call last)",
      "\u001b[1;32m/media/data/github/learn/ai/MLP/MLP_2_2_1_opt.ipynb Cell 5\u001b[0m line \u001b[0;36m2\n\u001b[1;32m     <a href='vscode-notebook-cell:/media/data/github/learn/ai/MLP/MLP_2_2_1_opt.ipynb#X13sZmlsZQ%3D%3D?line=23'>24</a>\u001b[0m     accuracy \u001b[39m=\u001b[39m [(yi \u001b[39m>\u001b[39m \u001b[39m0\u001b[39m) \u001b[39m==\u001b[39m (scorei\u001b[39m.\u001b[39mdata \u001b[39m>\u001b[39m \u001b[39m0\u001b[39m) \u001b[39mfor\u001b[39;00m yi, scorei \u001b[39min\u001b[39;00m \u001b[39mzip\u001b[39m(yb, scores)]\n\u001b[1;32m     <a href='vscode-notebook-cell:/media/data/github/learn/ai/MLP/MLP_2_2_1_opt.ipynb#X13sZmlsZQ%3D%3D?line=24'>25</a>\u001b[0m     \u001b[39mreturn\u001b[39;00m total_loss, \u001b[39msum\u001b[39m(accuracy) \u001b[39m/\u001b[39m \u001b[39mlen\u001b[39m(accuracy)\n\u001b[0;32m---> <a href='vscode-notebook-cell:/media/data/github/learn/ai/MLP/MLP_2_2_1_opt.ipynb#X13sZmlsZQ%3D%3D?line=26'>27</a>\u001b[0m total_loss, acc \u001b[39m=\u001b[39m loss()\n\u001b[1;32m     <a href='vscode-notebook-cell:/media/data/github/learn/ai/MLP/MLP_2_2_1_opt.ipynb#X13sZmlsZQ%3D%3D?line=27'>28</a>\u001b[0m \u001b[39mprint\u001b[39m(total_loss, acc)\n",
      "\u001b[1;32m/media/data/github/learn/ai/MLP/MLP_2_2_1_opt.ipynb Cell 5\u001b[0m line \u001b[0;36m6\n\u001b[1;32m      <a href='vscode-notebook-cell:/media/data/github/learn/ai/MLP/MLP_2_2_1_opt.ipynb#X13sZmlsZQ%3D%3D?line=1'>2</a>\u001b[0m \u001b[39mdef\u001b[39;00m \u001b[39mloss\u001b[39m(batch_size\u001b[39m=\u001b[39m\u001b[39mNone\u001b[39;00m):\n\u001b[1;32m      <a href='vscode-notebook-cell:/media/data/github/learn/ai/MLP/MLP_2_2_1_opt.ipynb#X13sZmlsZQ%3D%3D?line=2'>3</a>\u001b[0m     \n\u001b[1;32m      <a href='vscode-notebook-cell:/media/data/github/learn/ai/MLP/MLP_2_2_1_opt.ipynb#X13sZmlsZQ%3D%3D?line=3'>4</a>\u001b[0m     \u001b[39m# inline DataLoader :)\u001b[39;00m\n\u001b[1;32m      <a href='vscode-notebook-cell:/media/data/github/learn/ai/MLP/MLP_2_2_1_opt.ipynb#X13sZmlsZQ%3D%3D?line=4'>5</a>\u001b[0m     \u001b[39mif\u001b[39;00m batch_size \u001b[39mis\u001b[39;00m \u001b[39mNone\u001b[39;00m:\n\u001b[0;32m----> <a href='vscode-notebook-cell:/media/data/github/learn/ai/MLP/MLP_2_2_1_opt.ipynb#X13sZmlsZQ%3D%3D?line=5'>6</a>\u001b[0m         Xb, yb \u001b[39m=\u001b[39m X, y\n\u001b[1;32m      <a href='vscode-notebook-cell:/media/data/github/learn/ai/MLP/MLP_2_2_1_opt.ipynb#X13sZmlsZQ%3D%3D?line=6'>7</a>\u001b[0m     \u001b[39melse\u001b[39;00m:\n\u001b[1;32m      <a href='vscode-notebook-cell:/media/data/github/learn/ai/MLP/MLP_2_2_1_opt.ipynb#X13sZmlsZQ%3D%3D?line=7'>8</a>\u001b[0m         ri \u001b[39m=\u001b[39m np\u001b[39m.\u001b[39mrandom\u001b[39m.\u001b[39mpermutation(X\u001b[39m.\u001b[39mshape[\u001b[39m0\u001b[39m])[:batch_size]\n",
      "\u001b[0;31mNameError\u001b[0m: name 'X' is not defined"
     ]
    }
   ],
   "source": [
    "# loss function\n",
    "def loss(batch_size=None):\n",
    "    \n",
    "    # inline DataLoader :)\n",
    "    if batch_size is None:\n",
    "        Xb, yb = X, y\n",
    "    else:\n",
    "        ri = np.random.permutation(X.shape[0])[:batch_size]\n",
    "        Xb, yb = X[ri], y[ri]\n",
    "    inputs = [list(map(Value, xrow)) for xrow in Xb]\n",
    "    \n",
    "    # forward the model to get scores\n",
    "    scores = list(map(model, inputs))\n",
    "    \n",
    "    # svm \"max-margin\" loss\n",
    "    losses = [(1 + -yi*scorei).relu() for yi, scorei in zip(yb, scores)]\n",
    "    data_loss = sum(losses) * (1.0 / len(losses))\n",
    "    # L2 regularization\n",
    "    alpha = 1e-4\n",
    "    reg_loss = alpha * sum((p*p for p in model.parameters()))\n",
    "    total_loss = data_loss + reg_loss\n",
    "    \n",
    "    # also get accuracy\n",
    "    accuracy = [(yi > 0) == (scorei.data > 0) for yi, scorei in zip(yb, scores)]\n",
    "    return total_loss, sum(accuracy) / len(accuracy)\n",
    "\n",
    "total_loss, acc = loss()\n",
    "print(total_loss, acc)"
   ]
  },
  {
   "cell_type": "code",
   "execution_count": 3,
   "metadata": {},
   "outputs": [
    {
     "data": {
      "text/plain": [
       "Value(data=-0.448383470945284, grad=0)"
      ]
     },
     "execution_count": 3,
     "metadata": {},
     "output_type": "execute_result"
    }
   ],
   "source": [
    "x = [2.0, 3.0]\n",
    "n = MLP(2, [2, 1])\n",
    "myMLP=n(x)\n",
    "myMLP"
   ]
  },
  {
   "cell_type": "code",
   "execution_count": 4,
   "metadata": {},
   "outputs": [
    {
     "data": {
      "text/plain": [
       "[Value(data=-0.448383470945284, grad=0),\n",
       " Value(data=-0.5853760222874868, grad=0)]"
      ]
     },
     "execution_count": 4,
     "metadata": {},
     "output_type": "execute_result"
    }
   ],
   "source": [
    "xs = [\n",
    "  [2.0, 3.0],\n",
    "  [4.0, -1.0],\n",
    "\n",
    "]\n",
    "ys = [1.0, -1.0] # desired targets\n",
    "ypred = [n(x) for x in xs]\n",
    "ypred"
   ]
  },
  {
   "cell_type": "code",
   "execution_count": 5,
   "metadata": {},
   "outputs": [
    {
     "name": "stdout",
     "output_type": "stream",
     "text": [
      "0 2.2697277218016554\n",
      "1 1.2977756721169675\n",
      "2 0.751189597807885\n",
      "3 0.7643410996410389\n",
      "4 0.6105285421115789\n",
      "5 1.1888539876129083\n",
      "6 0.6735790116410048\n",
      "7 1.7602961265355326\n",
      "8 0.37249922329191065\n",
      "9 0.7740235593971664\n",
      "10 1.0225251093295087\n",
      "11 3.0540668081850963\n",
      "12 0.8911858867525992\n",
      "13 0.6413729940379229\n",
      "14 1.5096236861122396\n",
      "15 0.49808732715631177\n",
      "16 1.2239022415747842\n",
      "17 0.8223498775678459\n",
      "18 2.44798179560418\n",
      "19 0.2486434120777741\n"
     ]
    }
   ],
   "source": [
    "\n",
    "for k in range(20):\n",
    "  \n",
    "  # forward pass\n",
    "  ypred = [n(x) for x in xs]\n",
    "  loss = sum((yout - ygt)**2 for ygt, yout in zip(ys, ypred))\n",
    "\n",
    "  # backward pass\n",
    "  for p in n.parameters():\n",
    "    p.grad = 0.0\n",
    "  loss.backward()\n",
    "  \n",
    "  # update\n",
    "  for p in n.parameters():\n",
    "    p.data += -0.1 * p.grad\n",
    "  \n",
    "  print(k, loss.data)\n",
    "  "
   ]
  },
  {
   "cell_type": "code",
   "execution_count": 6,
   "metadata": {},
   "outputs": [
    {
     "data": {
      "text/plain": [
       "[Value(data=0.5336434492733968, grad=-0.9327131014532064),\n",
       " Value(data=-0.8234922673870653, grad=0.35301546522586946)]"
      ]
     },
     "execution_count": 6,
     "metadata": {},
     "output_type": "execute_result"
    }
   ],
   "source": [
    "ypred"
   ]
  },
  {
   "cell_type": "code",
   "execution_count": 7,
   "metadata": {},
   "outputs": [
    {
     "ename": "NameError",
     "evalue": "name 'draw_dot' is not defined",
     "output_type": "error",
     "traceback": [
      "\u001b[0;31m---------------------------------------------------------------------------\u001b[0m",
      "\u001b[0;31mNameError\u001b[0m                                 Traceback (most recent call last)",
      "\u001b[1;32m/media/data/github/learn/ai/MLP/MLP_2_2_1_opt.ipynb Cell 8\u001b[0m line \u001b[0;36m1\n\u001b[0;32m----> <a href='vscode-notebook-cell:/media/data/github/learn/ai/MLP/MLP_2_2_1_opt.ipynb#W6sZmlsZQ%3D%3D?line=0'>1</a>\u001b[0m draw_dot(myMLP)\n",
      "\u001b[0;31mNameError\u001b[0m: name 'draw_dot' is not defined"
     ]
    }
   ],
   "source": [
    "draw_dot(myMLP)"
   ]
  }
 ],
 "metadata": {
  "kernelspec": {
   "display_name": "Python 3",
   "language": "python",
   "name": "python3"
  },
  "language_info": {
   "codemirror_mode": {
    "name": "ipython",
    "version": 3
   },
   "file_extension": ".py",
   "mimetype": "text/x-python",
   "name": "python",
   "nbconvert_exporter": "python",
   "pygments_lexer": "ipython3",
   "version": "3.10.12"
  }
 },
 "nbformat": 4,
 "nbformat_minor": 4
}
