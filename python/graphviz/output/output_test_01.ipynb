{
 "cells": [
  {
   "cell_type": "code",
   "execution_count": 13,
   "metadata": {},
   "outputs": [],
   "source": [
    "import math\n",
    "import numpy as np\n",
    "import matplotlib.pyplot as plt\n",
    "from graphviz import Digraph\n",
    "\n",
    "%matplotlib inline"
   ]
  },
  {
   "cell_type": "code",
   "execution_count": 14,
   "metadata": {},
   "outputs": [
    {
     "name": "stdout",
     "output_type": "stream",
     "text": [
      "digraph {\n",
      "\tgraph [rankdir=LR]\n",
      "\ta [label=\"{ type | data 3.0000 | grad 4.0000 }\" shape=record]\n",
      "\tb [label=\"{ type | data 3.0000 | grad 4.0000 }\" shape=record]\n",
      "\ta -> b\n",
      "}\n",
      "\n"
     ]
    },
    {
     "name": "stderr",
     "output_type": "stream",
     "text": [
      "/snap/core20/current/lib/x86_64-linux-gnu/libstdc++.so.6: version `GLIBCXX_3.4.29' not found (required by /lib/x86_64-linux-gnu/libproxy.so.1)\n",
      "Failed to load module: /home/tmeng12/snap/code/common/.cache/gio-modules/libgiolibproxy.so\n"
     ]
    },
    {
     "ename": "AttributeError",
     "evalue": "type object 'Digraph' has no attribute 'pipe_string'",
     "output_type": "error",
     "traceback": [
      "\u001b[0;31m---------------------------------------------------------------------------\u001b[0m",
      "\u001b[0;31mAttributeError\u001b[0m                            Traceback (most recent call last)",
      "\u001b[1;32m/media/data/github/learn/python/graphviz/output/output_test_01.ipynb Cell 2\u001b[0m line \u001b[0;36m1\n\u001b[1;32m      <a href='vscode-notebook-cell:/media/data/github/learn/python/graphviz/output/output_test_01.ipynb#W3sZmlsZQ%3D%3D?line=7'>8</a>\u001b[0m dot\n\u001b[1;32m     <a href='vscode-notebook-cell:/media/data/github/learn/python/graphviz/output/output_test_01.ipynb#W3sZmlsZQ%3D%3D?line=9'>10</a>\u001b[0m dot\u001b[39m.\u001b[39mrender(\u001b[39m'\u001b[39m\u001b[39mabcd.gv\u001b[39m\u001b[39m'\u001b[39m, \u001b[39mformat\u001b[39m\u001b[39m=\u001b[39m\u001b[39m'\u001b[39m\u001b[39mjpg\u001b[39m\u001b[39m'\u001b[39m,view\u001b[39m=\u001b[39m\u001b[39mTrue\u001b[39;00m)\n\u001b[0;32m---> <a href='vscode-notebook-cell:/media/data/github/learn/python/graphviz/output/output_test_01.ipynb#W3sZmlsZQ%3D%3D?line=11'>12</a>\u001b[0m Digraph\u001b[39m.\u001b[39;49mpipe_string(\u001b[39m'\u001b[39m\u001b[39mdot\u001b[39m\u001b[39m'\u001b[39m, \u001b[39m'\u001b[39m\u001b[39msvg\u001b[39m\u001b[39m'\u001b[39m, \u001b[39m'\u001b[39m\u001b[39mgraph \u001b[39m\u001b[39m{\u001b[39m\u001b[39m spam }\u001b[39m\u001b[39m'\u001b[39m,\n\u001b[1;32m     <a href='vscode-notebook-cell:/media/data/github/learn/python/graphviz/output/output_test_01.ipynb#W3sZmlsZQ%3D%3D?line=12'>13</a>\u001b[0m                      encoding\u001b[39m=\u001b[39m\u001b[39m'\u001b[39m\u001b[39mascii\u001b[39m\u001b[39m'\u001b[39m)[:\u001b[39m14\u001b[39m]\n\u001b[1;32m     <a href='vscode-notebook-cell:/media/data/github/learn/python/graphviz/output/output_test_01.ipynb#W3sZmlsZQ%3D%3D?line=13'>14</a>\u001b[0m \u001b[39m# a=dot.pipe_string()\u001b[39;00m\n",
      "\u001b[0;31mAttributeError\u001b[0m: type object 'Digraph' has no attribute 'pipe_string'"
     ]
    },
    {
     "name": "stderr",
     "output_type": "stream",
     "text": [
      "eog: symbol lookup error: /snap/core20/current/lib/x86_64-linux-gnu/libpthread.so.0: undefined symbol: __libc_pthread_init, version GLIBC_PRIVATE\n"
     ]
    }
   ],
   "source": [
    "dot = Digraph(format='svg', graph_attr={'rankdir': 'LR'}) # LR = left to right\n",
    "nodes, edges = set(), set()\n",
    "# nodes.add(v)\n",
    "dot.node(name = \"a\", label = \"{ %s | data %.4f | grad %.4f }\" % (\"type\", 3, 4), shape='record')\n",
    "dot.node(name = \"b\", label = \"{ %s | data %.4f | grad %.4f }\" % (\"type\", 3, 4), shape='record')\n",
    "dot.edge(\"a\", \"b\")\n",
    "print(dot.source) \n",
    "dot\n",
    "\n",
    "dot.render('abcd.gv', format='jpg',view=True)\n",
    "\n",
    "Digraph.pipe_string('dot', 'svg', 'graph { spam }',\n",
    "                     encoding='ascii')[:14]\n",
    "# a=dot.pipe_string()\n"
   ]
  }
 ],
 "metadata": {
  "kernelspec": {
   "display_name": "Python 3",
   "language": "python",
   "name": "python3"
  },
  "language_info": {
   "codemirror_mode": {
    "name": "ipython",
    "version": 3
   },
   "file_extension": ".py",
   "mimetype": "text/x-python",
   "name": "python",
   "nbconvert_exporter": "python",
   "pygments_lexer": "ipython3",
   "version": "3.10.12"
  }
 },
 "nbformat": 4,
 "nbformat_minor": 2
}
